{
 "cells": [
  {
   "cell_type": "markdown",
   "id": "af67e6b8",
   "metadata": {},
   "source": [
    "# Import CH4 aerial observations data into unified database"
   ]
  },
  {
   "cell_type": "markdown",
   "id": "b882d366",
   "metadata": {},
   "source": [
    "## Resources\n",
    "http://localhost:8888/notebooks/misc/arcgis-python-api/guide/04-feature-data-and-analysis/editing-features.ipynb\n",
    "\n",
    "https://developers.arcgis.com/python/guide/accessing-and-creating-content/\n",
    "\n",
    "http://localhost:8888/notebooks/misc/arcgis-python-api/samples/05_content_publishers/updating_features_in_a_feature_layer.ipynb"
   ]
  },
  {
   "cell_type": "markdown",
   "id": "5cca8426",
   "metadata": {},
   "source": [
    "## Import libraries and setup"
   ]
  },
  {
   "cell_type": "code",
   "execution_count": 1,
   "id": "c7446b61",
   "metadata": {},
   "outputs": [],
   "source": [
    "import os\n",
    "import datetime\n",
    "import json\n",
    "import shutil\n",
    "from copy import deepcopy\n",
    "\n",
    "import matplotlib.pyplot as plt\n",
    "import pandas as pd\n",
    "import geopandas as gpd\n",
    "import arcgis\n",
    "from arcgis.gis import GIS\n",
    "from arcgis.features import GeoAccessor\n",
    "from arcgis import geometry #use geometry module to project Long,Lat to X and Y\n",
    "#import contextily as cx"
   ]
  },
  {
   "cell_type": "code",
   "execution_count": 3,
   "id": "a5f99c30",
   "metadata": {},
   "outputs": [],
   "source": [
    "# Define layer id for aerial observations unified database\n",
    "aerial_obs_layer_id = '8df1e448e7424ad09d2a8a1521267692'\n",
    "\n",
    "# Define layer id for MCBU facilities dataset\n",
    "facilities_layer_id = '857b2093bff44132b39e65176c309284'\n",
    "\n",
    "# Define path to csv for new aerial observations\n",
    "csv = 'MCBU_aerial_obs_3_24_2022.csv'"
   ]
  },
  {
   "cell_type": "markdown",
   "id": "d8f1d12f",
   "metadata": {},
   "source": [
    "## Function to load feature layer into GDF"
   ]
  },
  {
   "cell_type": "code",
   "execution_count": 4,
   "id": "bd98f77d",
   "metadata": {
    "code_folding": [
     0
    ]
   },
   "outputs": [],
   "source": [
    "def FeatureToGdf(feature_layer):\n",
    "    \"\"\" Converts feature layer to geodataframe\n",
    "    \n",
    "    Parameters\n",
    "    -----------\n",
    "    feature_layer : ArcGIS API feature layer\n",
    "\n",
    "    Returns\n",
    "    -----------\n",
    "    feature_gdf : geodataframe\n",
    "    \n",
    "    \"\"\"\n",
    "    import geopandas as gpd\n",
    "\n",
    "    # .query() returns a FeatureSet\n",
    "    fset = feature_layer.query()\n",
    "\n",
    "    # get a GeoJSON string representation of the FeatureSet\n",
    "    gjson_string = fset.to_geojson\n",
    "\n",
    "    # read GeoJSON string into a dict\n",
    "    gjson_dict = json.loads(gjson_string)\n",
    "\n",
    "    # Read the dict into a gdf\n",
    "    feature_gdf = gpd.GeoDataFrame.from_features(gjson_dict['features'])\n",
    "    \n",
    "    # Return GDF\n",
    "    return feature_gdf   "
   ]
  },
  {
   "cell_type": "markdown",
   "id": "e4c41c51",
   "metadata": {},
   "source": [
    "## Connect to Chevron MapHub"
   ]
  },
  {
   "cell_type": "code",
   "execution_count": 5,
   "id": "6e31d4cc",
   "metadata": {},
   "outputs": [
    {
     "name": "stdout",
     "output_type": "stream",
     "text": [
      "Please sign in to your GIS and paste the code that is obtained below.\n",
      "If a web browser does not automatically open, please navigate to the URL below yourself instead.\n",
      "Opening web browser to navigate to: https://maphub-amer.tst.azure.chevron.com/portal/sharing/rest//oauth2/authorize?response_type=code&client_id=bb6vn14P957pN6bV&redirect_uri=urn%3Aietf%3Awg%3Aoauth%3A2.0%3Aoob&state=xP5NFOTIPZRDZCkkbeaqtVVrps6d6g\n",
      "Enter code obtained on signing in using SAML: ········\n"
     ]
    },
    {
     "name": "stderr",
     "output_type": "stream",
     "text": [
      "C:\\Program Files\\ArcGIS\\Pro\\bin\\Python\\envs\\arcgispro-py3-clone\\lib\\site-packages\\urllib3\\connectionpool.py:1004: InsecureRequestWarning:\n",
      "\n",
      "Unverified HTTPS request is being made to host 'maphub-amer.tst.azure.chevron.com'. Adding certificate verification is strongly advised. See: https://urllib3.readthedocs.io/en/latest/advanced-usage.html#ssl-warnings\n",
      "\n"
     ]
    },
    {
     "name": "stdout",
     "output_type": "stream",
     "text": [
      "Logged in as: ekqo\n"
     ]
    }
   ],
   "source": [
    "gis = GIS(\"https://maphub-amer.tst.azure.chevron.com/portal\", client_id='bb6vn14P957pN6bV')\n",
    "print(\"Logged in as: \" + gis.properties.user.username)"
   ]
  },
  {
   "cell_type": "markdown",
   "id": "4e660279",
   "metadata": {},
   "source": [
    "## Load CSV of new aerial observations"
   ]
  },
  {
   "cell_type": "code",
   "execution_count": 6,
   "id": "9cf0dabd",
   "metadata": {},
   "outputs": [
    {
     "data": {
      "text/html": [
       "<div>\n",
       "<style scoped>\n",
       "    .dataframe tbody tr th:only-of-type {\n",
       "        vertical-align: middle;\n",
       "    }\n",
       "\n",
       "    .dataframe tbody tr th {\n",
       "        vertical-align: top;\n",
       "    }\n",
       "\n",
       "    .dataframe thead th {\n",
       "        text-align: right;\n",
       "    }\n",
       "</style>\n",
       "<table border=\"1\" class=\"dataframe\">\n",
       "  <thead>\n",
       "    <tr style=\"text-align: right;\">\n",
       "      <th></th>\n",
       "      <th>obs_id</th>\n",
       "      <th>obs_datetime</th>\n",
       "      <th>obs_lat</th>\n",
       "      <th>obs_long</th>\n",
       "      <th>obs_q</th>\n",
       "      <th>obs_sensor</th>\n",
       "      <th>geometry</th>\n",
       "    </tr>\n",
       "  </thead>\n",
       "  <tbody>\n",
       "    <tr>\n",
       "      <th>0</th>\n",
       "      <td>9Y84LZ6</td>\n",
       "      <td>2/18/2022 16:49</td>\n",
       "      <td>32.2987</td>\n",
       "      <td>-104.0665</td>\n",
       "      <td>230</td>\n",
       "      <td>GHGSat-C2</td>\n",
       "      <td>POINT (-104.06650 32.29870)</td>\n",
       "    </tr>\n",
       "    <tr>\n",
       "      <th>1</th>\n",
       "      <td>9XS28ET_1</td>\n",
       "      <td>2/10/2022 16:43</td>\n",
       "      <td>31.2719</td>\n",
       "      <td>-103.3187</td>\n",
       "      <td>2,766</td>\n",
       "      <td>GHGSat-C2</td>\n",
       "      <td>POINT (-103.31870 31.27190)</td>\n",
       "    </tr>\n",
       "    <tr>\n",
       "      <th>2</th>\n",
       "      <td>9XS28ET_2</td>\n",
       "      <td>2/10/2022 16:43</td>\n",
       "      <td>31.2720</td>\n",
       "      <td>-103.3115</td>\n",
       "      <td>1,421</td>\n",
       "      <td>GHGSat-C2</td>\n",
       "      <td>POINT (-103.31150 31.27200)</td>\n",
       "    </tr>\n",
       "  </tbody>\n",
       "</table>\n",
       "</div>"
      ],
      "text/plain": [
       "      obs_id     obs_datetime  obs_lat  obs_long  obs_q obs_sensor  \\\n",
       "0    9Y84LZ6  2/18/2022 16:49  32.2987 -104.0665    230  GHGSat-C2   \n",
       "1  9XS28ET_1  2/10/2022 16:43  31.2719 -103.3187  2,766  GHGSat-C2   \n",
       "2  9XS28ET_2  2/10/2022 16:43  31.2720 -103.3115  1,421  GHGSat-C2   \n",
       "\n",
       "                      geometry  \n",
       "0  POINT (-104.06650 32.29870)  \n",
       "1  POINT (-103.31870 31.27190)  \n",
       "2  POINT (-103.31150 31.27200)  "
      ]
     },
     "execution_count": 6,
     "metadata": {},
     "output_type": "execute_result"
    }
   ],
   "source": [
    "# Read csv into a df\n",
    "aerial_obs_csv = pd.read_csv(csv)\n",
    "\n",
    "# Read df into gdf and set crs\n",
    "aerial_obs_gdf = gpd.GeoDataFrame(\n",
    "    aerial_obs_csv, geometry=gpd.points_from_xy(aerial_obs_csv.obs_long, aerial_obs_csv.obs_lat))\n",
    "aerial_obs_gdf = aerial_obs_gdf.set_crs(epsg=4267)\n",
    "aerial_obs_gdf"
   ]
  },
  {
   "cell_type": "markdown",
   "id": "2075d42a",
   "metadata": {},
   "source": [
    "## Check aerial observations against unified database"
   ]
  },
  {
   "cell_type": "code",
   "execution_count": 7,
   "id": "cd71c85e",
   "metadata": {},
   "outputs": [
    {
     "data": {
      "text/html": [
       "<div>\n",
       "<style scoped>\n",
       "    .dataframe tbody tr th:only-of-type {\n",
       "        vertical-align: middle;\n",
       "    }\n",
       "\n",
       "    .dataframe tbody tr th {\n",
       "        vertical-align: top;\n",
       "    }\n",
       "\n",
       "    .dataframe thead th {\n",
       "        text-align: right;\n",
       "    }\n",
       "</style>\n",
       "<table border=\"1\" class=\"dataframe\">\n",
       "  <thead>\n",
       "    <tr style=\"text-align: right;\">\n",
       "      <th></th>\n",
       "      <th>objectid</th>\n",
       "      <th>fot_asset_name</th>\n",
       "      <th>child_obj_code</th>\n",
       "      <th>child_obj_desc</th>\n",
       "      <th>mcbu_gis_data_uploaded_date</th>\n",
       "      <th>child_lat</th>\n",
       "      <th>child_long</th>\n",
       "      <th>obs_id</th>\n",
       "      <th>obs_datetime</th>\n",
       "      <th>obs_lat</th>\n",
       "      <th>obs_long</th>\n",
       "      <th>obs_q</th>\n",
       "      <th>obs_sensor</th>\n",
       "      <th>SHAPE</th>\n",
       "    </tr>\n",
       "  </thead>\n",
       "  <tbody>\n",
       "    <tr>\n",
       "      <th>0</th>\n",
       "      <td>2</td>\n",
       "      <td>TEST</td>\n",
       "      <td>TEST</td>\n",
       "      <td>TEST</td>\n",
       "      <td>2022-03-24 16:01:16.407000065</td>\n",
       "      <td>None</td>\n",
       "      <td>None</td>\n",
       "      <td>9Y84LZ6</td>\n",
       "      <td>2022-03-24 16:13:42.467000008</td>\n",
       "      <td>None</td>\n",
       "      <td>None</td>\n",
       "      <td>200.0</td>\n",
       "      <td>GHGSat</td>\n",
       "      <td>{\"x\": -11520140.3642, \"y\": 3681516.2709000036,...</td>\n",
       "    </tr>\n",
       "  </tbody>\n",
       "</table>\n",
       "</div>"
      ],
      "text/plain": [
       "   objectid fot_asset_name child_obj_code child_obj_desc  \\\n",
       "0         2           TEST           TEST           TEST   \n",
       "\n",
       "    mcbu_gis_data_uploaded_date child_lat child_long   obs_id  \\\n",
       "0 2022-03-24 16:01:16.407000065      None       None  9Y84LZ6   \n",
       "\n",
       "                   obs_datetime obs_lat obs_long  obs_q obs_sensor  \\\n",
       "0 2022-03-24 16:13:42.467000008    None     None  200.0     GHGSat   \n",
       "\n",
       "                                               SHAPE  \n",
       "0  {\"x\": -11520140.3642, \"y\": 3681516.2709000036,...  "
      ]
     },
     "execution_count": 7,
     "metadata": {},
     "output_type": "execute_result"
    }
   ],
   "source": [
    "# Load the aerial observations unified database from MapHub\n",
    "aerial_obs_item = gis.content.get(aerial_obs_layer_id)\n",
    "aerial_obs_layers = aerial_obs_item.layers\n",
    "aerial_obs_fset = aerial_obs_layers[0].query()\n",
    "aerial_obs_fset.sdf"
   ]
  },
  {
   "cell_type": "code",
   "execution_count": 8,
   "id": "a412a01c",
   "metadata": {},
   "outputs": [
    {
     "data": {
      "text/html": [
       "<div>\n",
       "<style scoped>\n",
       "    .dataframe tbody tr th:only-of-type {\n",
       "        vertical-align: middle;\n",
       "    }\n",
       "\n",
       "    .dataframe tbody tr th {\n",
       "        vertical-align: top;\n",
       "    }\n",
       "\n",
       "    .dataframe thead th {\n",
       "        text-align: right;\n",
       "    }\n",
       "</style>\n",
       "<table border=\"1\" class=\"dataframe\">\n",
       "  <thead>\n",
       "    <tr style=\"text-align: right;\">\n",
       "      <th></th>\n",
       "      <th>obs_id</th>\n",
       "      <th>obs_datetime</th>\n",
       "      <th>obs_lat</th>\n",
       "      <th>obs_long</th>\n",
       "      <th>obs_q</th>\n",
       "      <th>obs_sensor</th>\n",
       "      <th>geometry</th>\n",
       "    </tr>\n",
       "  </thead>\n",
       "  <tbody>\n",
       "    <tr>\n",
       "      <th>1</th>\n",
       "      <td>9XS28ET_1</td>\n",
       "      <td>2/10/2022 16:43</td>\n",
       "      <td>31.2719</td>\n",
       "      <td>-103.3187</td>\n",
       "      <td>2,766</td>\n",
       "      <td>GHGSat-C2</td>\n",
       "      <td>POINT (-103.31870 31.27190)</td>\n",
       "    </tr>\n",
       "    <tr>\n",
       "      <th>2</th>\n",
       "      <td>9XS28ET_2</td>\n",
       "      <td>2/10/2022 16:43</td>\n",
       "      <td>31.2720</td>\n",
       "      <td>-103.3115</td>\n",
       "      <td>1,421</td>\n",
       "      <td>GHGSat-C2</td>\n",
       "      <td>POINT (-103.31150 31.27200)</td>\n",
       "    </tr>\n",
       "  </tbody>\n",
       "</table>\n",
       "</div>"
      ],
      "text/plain": [
       "      obs_id     obs_datetime  obs_lat  obs_long  obs_q obs_sensor  \\\n",
       "1  9XS28ET_1  2/10/2022 16:43  31.2719 -103.3187  2,766  GHGSat-C2   \n",
       "2  9XS28ET_2  2/10/2022 16:43  31.2720 -103.3115  1,421  GHGSat-C2   \n",
       "\n",
       "                      geometry  \n",
       "1  POINT (-103.31870 31.27190)  \n",
       "2  POINT (-103.31150 31.27200)  "
      ]
     },
     "execution_count": 8,
     "metadata": {},
     "output_type": "execute_result"
    }
   ],
   "source": [
    "# Select those rows in aerial_obs_csv that are not in aerial_obs_fset using obs_id field\n",
    "new_rows_gdf = aerial_obs_gdf[~aerial_obs_gdf['obs_id'].isin(aerial_obs_fset.sdf['obs_id'])]\n",
    "new_rows_gdf"
   ]
  },
  {
   "cell_type": "markdown",
   "id": "da693693",
   "metadata": {},
   "source": [
    "## Load new observations into unified database"
   ]
  },
  {
   "cell_type": "markdown",
   "id": "c055c2a5",
   "metadata": {},
   "source": [
    "### Perform spatial join of new observations against MCBU facilities data"
   ]
  },
  {
   "cell_type": "code",
   "execution_count": 9,
   "id": "3b074887",
   "metadata": {},
   "outputs": [],
   "source": [
    "# Load the MCBU facilities data into a GDF\n",
    "mcbu_facilities = gis.content.get(facilities_layer_id)\n",
    "\n",
    "# Create blank list to store results\n",
    "mcbu_facilities_list = []\n",
    "\n",
    "# Iterate over the layers in the collection\n",
    "for layer in mcbu_facilities.layers:\n",
    "\n",
    "    # Check layer type to only process points\n",
    "    if layer.properties.geometryType == 'esriGeometryPoint':\n",
    "        \n",
    "        # Convert the feature layer to a GDF\n",
    "        facilities_gdf = FeatureToGdf(layer)\n",
    "\n",
    "        # Append the gdf to the list\n",
    "        mcbu_facilities_list.append(facilities_gdf)\n",
    "        \n",
    "    else:\n",
    "        continue\n",
    "    \n",
    "# Combine all the df's into a single df for all the years\n",
    "mcbu_facilities_gdf = pd.concat(mcbu_facilities_list, axis=0)\n",
    "\n",
    "# Format the date fields as datetime\n",
    "mcbu_facilities_gdf['MCBU_GIS_DATA_RECEIVED_DATE'] = pd.to_datetime(\n",
    "    mcbu_facilities_gdf['MCBU_GIS_DATA_RECEIVED_DATE'], unit='ms')\n",
    "\n",
    "mcbu_facilities_gdf['MCBU_GIS_DATA_UPLOADED_DATE'] = pd.to_datetime(\n",
    "    mcbu_facilities_gdf['MCBU_GIS_DATA_UPLOADED_DATE'], unit='ms')\n",
    "\n",
    "# Set the CRS\n",
    "mcbu_facilities_gdf = mcbu_facilities_gdf.set_crs(epsg=4267)\n",
    "#mcbu_facilities_gdf"
   ]
  },
  {
   "cell_type": "code",
   "execution_count": 10,
   "id": "60386d5a",
   "metadata": {},
   "outputs": [
    {
     "ename": "AttributeError",
     "evalue": "module 'geopandas' has no attribute 'sjoin_nearest'",
     "output_type": "error",
     "traceback": [
      "\u001b[1;31m---------------------------------------------------------------------------\u001b[0m",
      "\u001b[1;31mAttributeError\u001b[0m                            Traceback (most recent call last)",
      "\u001b[1;32m<ipython-input-10-8cb0bf16ac75>\u001b[0m in \u001b[0;36m<module>\u001b[1;34m\u001b[0m\n\u001b[0;32m      1\u001b[0m \u001b[1;31m# Use spatial join to find nearest facility to each aerial observation\u001b[0m\u001b[1;33m\u001b[0m\u001b[1;33m\u001b[0m\u001b[1;33m\u001b[0m\u001b[0m\n\u001b[1;32m----> 2\u001b[1;33m \u001b[0mnew_rows_joined_gdf\u001b[0m \u001b[1;33m=\u001b[0m \u001b[0mgpd\u001b[0m\u001b[1;33m.\u001b[0m\u001b[0msjoin_nearest\u001b[0m\u001b[1;33m(\u001b[0m\u001b[0mnew_rows_gdf\u001b[0m\u001b[1;33m,\u001b[0m \u001b[0mmcbu_facilities_gdf\u001b[0m\u001b[1;33m,\u001b[0m \u001b[0mhow\u001b[0m\u001b[1;33m=\u001b[0m\u001b[1;34m'inner'\u001b[0m\u001b[1;33m,\u001b[0m \u001b[0mmax_distance\u001b[0m\u001b[1;33m=\u001b[0m\u001b[1;36m0.01\u001b[0m\u001b[1;33m)\u001b[0m\u001b[1;33m\u001b[0m\u001b[1;33m\u001b[0m\u001b[0m\n\u001b[0m\u001b[0;32m      3\u001b[0m \u001b[0mnew_rows_joined_gdf\u001b[0m\u001b[1;33m.\u001b[0m\u001b[0mstyle\u001b[0m\u001b[1;33m\u001b[0m\u001b[1;33m\u001b[0m\u001b[0m\n",
      "\u001b[1;31mAttributeError\u001b[0m: module 'geopandas' has no attribute 'sjoin_nearest'"
     ]
    }
   ],
   "source": [
    "# Use spatial join to find nearest facility to each aerial observation\n",
    "new_rows_joined_gdf = gpd.sjoin_nearest(new_rows_gdf, mcbu_facilities_gdf, how='inner', max_distance=0.01)\n",
    "new_rows_joined_gdf.style"
   ]
  },
  {
   "cell_type": "markdown",
   "id": "bb3f26e6",
   "metadata": {},
   "source": [
    "### Create features from new rows"
   ]
  },
  {
   "cell_type": "code",
   "execution_count": null,
   "id": "6013647e",
   "metadata": {},
   "outputs": [],
   "source": [
    "# Get an example feature\n",
    "features_for_update = aerial_obs_fset.features[0]\n",
    "\n",
    "# Get a template feature object\n",
    "template_feature = deepcopy(features_for_update)\n",
    "\n",
    "# List of features to be added\n",
    "features_to_be_added = []\n",
    "\n",
    "# loop through each row and add to the list of features to be added\n",
    "for row in new_rows_joined_gdf.iterrows():\n",
    "    new_feature = deepcopy(template_feature)\n",
    "\n",
    "    # print\n",
    "    print(\"Creating entry for obs_id: \" + row[1]['obs_id'])\n",
    "\n",
    "    # get geometries in the destination coordinate system\n",
    "    input_geometry = {'y': float(row[1]['CHILD_LAT']),\n",
    "                      'x': float(row[1]['CHILD_LONG'])}\n",
    "    output_geometry = geometry.project(geometries=[input_geometry],\n",
    "                                       in_sr=new_rows_joined_gdf.crs,\n",
    "                                       out_sr=aerial_obs_fset.spatial_reference['latestWkid'],\n",
    "                                       gis=gis)"
   ]
  },
  {
   "cell_type": "code",
   "execution_count": null,
   "id": "d55d16f1",
   "metadata": {},
   "outputs": [],
   "source": [
    "# Loop over the rows to populate featureset"
   ]
  },
  {
   "cell_type": "code",
   "execution_count": null,
   "id": "defc7185",
   "metadata": {
    "code_folding": []
   },
   "outputs": [],
   "source": [
    "# Get data\n",
    "mcbu_facilities = gis.content.get(facilities_layer_id)\n",
    "\n",
    "# Create blank list to store results\n",
    "mcbu_facilities_list = []\n",
    "\n",
    "# Iterate over the layers in the collection\n",
    "for layer in mcbu_facilities.layers:\n",
    "\n",
    "    # Check layer type to only process points\n",
    "    if layer.properties.geometryType == 'esriGeometryPoint':\n",
    "        \n",
    "        # Convert the feature layer to a GDF\n",
    "        facilities_gdf = FeatureToGdf(layer)\n",
    "\n",
    "        # Append the gdf to the list\n",
    "        mcbu_facilities_list.append(facilities_gdf)\n",
    "        \n",
    "    else:\n",
    "        continue\n",
    "    \n",
    "# Combine all the df's into a single df for all the years\n",
    "mcbu_facilities_df = pd.concat(mcbu_facilities_list, axis=0)\n",
    "\n",
    "# Format the date fields as datetime\n",
    "mcbu_facilities_df['MCBU_GIS_DATA_RECEIVED_DATE'] = pd.to_datetime(\n",
    "    mcbu_facilities_df['MCBU_GIS_DATA_RECEIVED_DATE'], unit='ms')\n",
    "\n",
    "mcbu_facilities_df['MCBU_GIS_DATA_UPLOADED_DATE'] = pd.to_datetime(\n",
    "    mcbu_facilities_df['MCBU_GIS_DATA_UPLOADED_DATE'], unit='ms')\n",
    "\n",
    "# Set the CRS\n",
    "mcbu_facilities_df = mcbu_facilities_df.set_crs(epsg=4267)\n",
    "mcbu_facilities_df"
   ]
  },
  {
   "cell_type": "markdown",
   "id": "9ad588f7",
   "metadata": {},
   "source": [
    "## Load the MCBU_CH4_aerial_obs feature layer"
   ]
  }
 ],
 "metadata": {
  "kernelspec": {
   "display_name": "Python 3 (ipykernel)",
   "language": "python",
   "name": "python3"
  },
  "language_info": {
   "codemirror_mode": {
    "name": "ipython",
    "version": 3
   },
   "file_extension": ".py",
   "mimetype": "text/x-python",
   "name": "python",
   "nbconvert_exporter": "python",
   "pygments_lexer": "ipython3",
   "version": "3.10.2"
  }
 },
 "nbformat": 4,
 "nbformat_minor": 5
}
