{
 "cells": [
  {
   "cell_type": "markdown",
   "id": "ab36b8cc",
   "metadata": {},
   "source": [
    "# Import CH4 aerial observations from csv into compiled database"
   ]
  },
  {
   "cell_type": "markdown",
   "id": "170e19dc",
   "metadata": {},
   "source": [
    "## Resources\n",
    "http://localhost:8888/notebooks/misc/arcgis-python-api/guide/04-feature-data-and-analysis/editing-features.ipynb\n",
    "\n",
    "https://developers.arcgis.com/python/guide/accessing-and-creating-content/\n",
    "\n",
    "http://localhost:8888/notebooks/misc/arcgis-python-api/samples/05_content_publishers/updating_features_in_a_feature_layer.ipynb"
   ]
  },
  {
   "cell_type": "markdown",
   "id": "2beb0999",
   "metadata": {},
   "source": [
    "## Import libraries and setup"
   ]
  },
  {
   "cell_type": "code",
   "execution_count": 1,
   "id": "06c1e2fe",
   "metadata": {},
   "outputs": [],
   "source": [
    "import os\n",
    "from datetime import datetime\n",
    "from copy import deepcopy\n",
    "\n",
    "import pandas as pd\n",
    "import geopandas as gpd\n",
    "import arcgis\n",
    "from arcgis.gis import GIS"
   ]
  },
  {
   "cell_type": "code",
   "execution_count": 49,
   "id": "ca19abff",
   "metadata": {},
   "outputs": [],
   "source": [
    "# Define feature service id for MCBU CH4 external studies compiled\n",
    "external_studies_compiled_fs_id = '73fcf310aa784460a9b102b1693a9314'\n",
    "\n",
    "# Define feature service id for MCBU facilities dataset\n",
    "facilities_layer_id = '857b2093bff44132b39e65176c309284'\n",
    "\n",
    "# Define path to csv for new aerial observations\n",
    "csv = 'MCBU_aerial_obs_3_24_2022.csv'"
   ]
  },
  {
   "cell_type": "markdown",
   "id": "dcdd6457",
   "metadata": {},
   "source": [
    "## Function to load feature layer into GDF"
   ]
  },
  {
   "cell_type": "code",
   "execution_count": 3,
   "id": "a97baaaf",
   "metadata": {
    "code_folding": []
   },
   "outputs": [],
   "source": [
    "def FeatureToGdf(feature_layer):\n",
    "    \"\"\" Converts feature layer to geodataframe\n",
    "    \n",
    "    Parameters\n",
    "    -----------\n",
    "    feature_layer : ArcGIS API feature layer\n",
    "\n",
    "    Returns\n",
    "    -----------\n",
    "    feature_gdf : geodataframe\n",
    "    \n",
    "    \"\"\"\n",
    "    import geopandas as gpd\n",
    "    import json\n",
    "    \n",
    "    # .query() returns a FeatureSet\n",
    "    fset = feature_layer.query()\n",
    "\n",
    "    # get a GeoJSON string representation of the FeatureSet\n",
    "    gjson_string = fset.to_geojson\n",
    "\n",
    "    # read GeoJSON string into a dict\n",
    "    gjson_dict = json.loads(gjson_string)\n",
    "\n",
    "    # Read the dict into a gdf\n",
    "    feature_gdf = gpd.GeoDataFrame.from_features(gjson_dict['features'])\n",
    "    \n",
    "    # Return GDF\n",
    "    return feature_gdf   "
   ]
  },
  {
   "cell_type": "markdown",
   "id": "d554fd37",
   "metadata": {},
   "source": [
    "## Connect to Chevron MapHub"
   ]
  },
  {
   "cell_type": "code",
   "execution_count": 25,
   "id": "b8ed77dc",
   "metadata": {},
   "outputs": [
    {
     "name": "stdout",
     "output_type": "stream",
     "text": [
      "Please sign in to your GIS and paste the code that is obtained below.\n",
      "If a web browser does not automatically open, please navigate to the URL below yourself instead.\n",
      "Opening web browser to navigate to: https://maphub-amer.tst.azure.chevron.com/portal/sharing/rest//oauth2/authorize?response_type=code&client_id=bb6vn14P957pN6bV&redirect_uri=urn%3Aietf%3Awg%3Aoauth%3A2.0%3Aoob&state=jt9uo4tOBK7NmyRwPBlsBf7A8k6h1q\n",
      "Enter code obtained on signing in using SAML: ········\n"
     ]
    },
    {
     "name": "stderr",
     "output_type": "stream",
     "text": [
      "C:\\Users\\ekqo\\Miniconda3\\envs\\arcgis\\lib\\site-packages\\urllib3\\connectionpool.py:1043: InsecureRequestWarning: Unverified HTTPS request is being made to host 'maphub-amer.tst.azure.chevron.com'. Adding certificate verification is strongly advised. See: https://urllib3.readthedocs.io/en/1.26.x/advanced-usage.html#ssl-warnings\n",
      "  warnings.warn(\n"
     ]
    },
    {
     "name": "stdout",
     "output_type": "stream",
     "text": [
      "Logged in as: ekqo\n"
     ]
    }
   ],
   "source": [
    "gis = GIS(\"https://maphub-amer.tst.azure.chevron.com/portal\", client_id='bb6vn14P957pN6bV')\n",
    "print(\"Logged in as: \" + gis.properties.user.username)"
   ]
  },
  {
   "cell_type": "markdown",
   "id": "e7f720d9",
   "metadata": {},
   "source": [
    "## Load new aerial observations from CSV"
   ]
  },
  {
   "cell_type": "code",
   "execution_count": 38,
   "id": "ad2b3047",
   "metadata": {},
   "outputs": [
    {
     "data": {
      "text/html": [
       "<div>\n",
       "<style scoped>\n",
       "    .dataframe tbody tr th:only-of-type {\n",
       "        vertical-align: middle;\n",
       "    }\n",
       "\n",
       "    .dataframe tbody tr th {\n",
       "        vertical-align: top;\n",
       "    }\n",
       "\n",
       "    .dataframe thead th {\n",
       "        text-align: right;\n",
       "    }\n",
       "</style>\n",
       "<table border=\"1\" class=\"dataframe\">\n",
       "  <thead>\n",
       "    <tr style=\"text-align: right;\">\n",
       "      <th></th>\n",
       "      <th>obs_id</th>\n",
       "      <th>obs_datetime</th>\n",
       "      <th>obs_lat</th>\n",
       "      <th>obs_long</th>\n",
       "      <th>obs_q</th>\n",
       "      <th>obs_sensor</th>\n",
       "      <th>geometry</th>\n",
       "    </tr>\n",
       "  </thead>\n",
       "  <tbody>\n",
       "    <tr>\n",
       "      <th>0</th>\n",
       "      <td>9Y84LZ6</td>\n",
       "      <td>2022-02-18 16:49:00</td>\n",
       "      <td>32.2987</td>\n",
       "      <td>-104.0665</td>\n",
       "      <td>230</td>\n",
       "      <td>GHGSat-C2</td>\n",
       "      <td>POINT (-104.06650 32.29870)</td>\n",
       "    </tr>\n",
       "    <tr>\n",
       "      <th>1</th>\n",
       "      <td>9XS28ET_1</td>\n",
       "      <td>2022-02-10 16:43:00</td>\n",
       "      <td>31.2719</td>\n",
       "      <td>-103.3187</td>\n",
       "      <td>2766</td>\n",
       "      <td>GHGSat-C2</td>\n",
       "      <td>POINT (-103.31870 31.27190)</td>\n",
       "    </tr>\n",
       "    <tr>\n",
       "      <th>2</th>\n",
       "      <td>9XS28ET_2</td>\n",
       "      <td>2022-02-10 16:43:00</td>\n",
       "      <td>31.2720</td>\n",
       "      <td>-103.3115</td>\n",
       "      <td>1421</td>\n",
       "      <td>GHGSat-C2</td>\n",
       "      <td>POINT (-103.31150 31.27200)</td>\n",
       "    </tr>\n",
       "  </tbody>\n",
       "</table>\n",
       "</div>"
      ],
      "text/plain": [
       "      obs_id        obs_datetime  obs_lat  obs_long  obs_q obs_sensor  \\\n",
       "0    9Y84LZ6 2022-02-18 16:49:00  32.2987 -104.0665    230  GHGSat-C2   \n",
       "1  9XS28ET_1 2022-02-10 16:43:00  31.2719 -103.3187   2766  GHGSat-C2   \n",
       "2  9XS28ET_2 2022-02-10 16:43:00  31.2720 -103.3115   1421  GHGSat-C2   \n",
       "\n",
       "                      geometry  \n",
       "0  POINT (-104.06650 32.29870)  \n",
       "1  POINT (-103.31870 31.27190)  \n",
       "2  POINT (-103.31150 31.27200)  "
      ]
     },
     "execution_count": 38,
     "metadata": {},
     "output_type": "execute_result"
    }
   ],
   "source": [
    "# Read csv into a df\n",
    "aerial_obs_csv = pd.read_csv(csv)\n",
    "\n",
    "# Read df into gdf and set crs\n",
    "aerial_obs_gdf = gpd.GeoDataFrame(\n",
    "    aerial_obs_csv, geometry=gpd.points_from_xy(aerial_obs_csv.obs_long, aerial_obs_csv.obs_lat))\n",
    "aerial_obs_gdf = aerial_obs_gdf.set_crs(epsg=4267)\n",
    "\n",
    "# Set the obs_datetime as datetime field type\n",
    "aerial_obs_gdf['obs_datetime'] = pd.to_datetime(aerial_obs_gdf['obs_datetime'])\n",
    "\n",
    "aerial_obs_gdf"
   ]
  },
  {
   "cell_type": "markdown",
   "id": "1fc4af74",
   "metadata": {},
   "source": [
    "## Check new aerial observations against compiled database"
   ]
  },
  {
   "cell_type": "code",
   "execution_count": 50,
   "id": "59a50d2f",
   "metadata": {},
   "outputs": [
    {
     "data": {
      "text/html": [
       "<div>\n",
       "<style scoped>\n",
       "    .dataframe tbody tr th:only-of-type {\n",
       "        vertical-align: middle;\n",
       "    }\n",
       "\n",
       "    .dataframe tbody tr th {\n",
       "        vertical-align: top;\n",
       "    }\n",
       "\n",
       "    .dataframe thead th {\n",
       "        text-align: right;\n",
       "    }\n",
       "</style>\n",
       "<table border=\"1\" class=\"dataframe\">\n",
       "  <thead>\n",
       "    <tr style=\"text-align: right;\">\n",
       "      <th></th>\n",
       "      <th>objectid</th>\n",
       "      <th>fot_asset_name</th>\n",
       "      <th>child_obj_code</th>\n",
       "      <th>child_obj_desc</th>\n",
       "      <th>mcbu_gis_data_uploaded_date</th>\n",
       "      <th>child_lat</th>\n",
       "      <th>child_long</th>\n",
       "      <th>obs_id</th>\n",
       "      <th>obs_datetime</th>\n",
       "      <th>obs_lat</th>\n",
       "      <th>obs_long</th>\n",
       "      <th>obs_q</th>\n",
       "      <th>obs_sensor</th>\n",
       "      <th>SHAPE</th>\n",
       "    </tr>\n",
       "  </thead>\n",
       "  <tbody>\n",
       "    <tr>\n",
       "      <th>0</th>\n",
       "      <td>2</td>\n",
       "      <td>Carlsbad East</td>\n",
       "      <td>EC7ETBY</td>\n",
       "      <td>BATTERY; EL TORO CTB</td>\n",
       "      <td>2022-03-24 16:01:16</td>\n",
       "      <td>32.29915</td>\n",
       "      <td>-104.06561</td>\n",
       "      <td>9Y84LZ6</td>\n",
       "      <td>2022-03-24 16:13:42</td>\n",
       "      <td>32.2987</td>\n",
       "      <td>-104.0665</td>\n",
       "      <td>230.0</td>\n",
       "      <td>GHGSat-C2</td>\n",
       "      <td>{\"x\": -11584585.9475, \"y\": 3802659.0424000025,...</td>\n",
       "    </tr>\n",
       "    <tr>\n",
       "      <th>1</th>\n",
       "      <td>7</td>\n",
       "      <td>Ft. Stockton</td>\n",
       "      <td>QV2WLFBN1BTY</td>\n",
       "      <td>BATTERY; WOLFBONE 1 CTB (AKA REEVES TXL 1 BTY)</td>\n",
       "      <td>2022-04-06 07:00:00</td>\n",
       "      <td>31.271452</td>\n",
       "      <td>-103.318574</td>\n",
       "      <td>9XS28ET_1</td>\n",
       "      <td>2022-02-11 00:43:00</td>\n",
       "      <td>31.2719</td>\n",
       "      <td>-103.3187</td>\n",
       "      <td>2766.0</td>\n",
       "      <td>GHGSat-C2</td>\n",
       "      <td>{\"x\": -11501420.9435, \"y\": 3668070.8312000036,...</td>\n",
       "    </tr>\n",
       "    <tr>\n",
       "      <th>2</th>\n",
       "      <td>8</td>\n",
       "      <td>Ft. Stockton</td>\n",
       "      <td>QV2RVSSJDCS</td>\n",
       "      <td>COMPRESSOR STATION; REEVES SJD SEC 15 CS</td>\n",
       "      <td>2022-04-06 07:00:00</td>\n",
       "      <td>31.271308</td>\n",
       "      <td>-103.312525</td>\n",
       "      <td>9XS28ET_2</td>\n",
       "      <td>2022-02-11 00:43:00</td>\n",
       "      <td>31.272</td>\n",
       "      <td>-103.3115</td>\n",
       "      <td>1421.0</td>\n",
       "      <td>GHGSat-C2</td>\n",
       "      <td>{\"x\": -11500747.556, \"y\": 3668052.080600001, \"...</td>\n",
       "    </tr>\n",
       "  </tbody>\n",
       "</table>\n",
       "</div>"
      ],
      "text/plain": [
       "   objectid fot_asset_name child_obj_code  \\\n",
       "0         2  Carlsbad East        EC7ETBY   \n",
       "1         7   Ft. Stockton   QV2WLFBN1BTY   \n",
       "2         8   Ft. Stockton    QV2RVSSJDCS   \n",
       "\n",
       "                                   child_obj_desc mcbu_gis_data_uploaded_date  \\\n",
       "0                            BATTERY; EL TORO CTB         2022-03-24 16:01:16   \n",
       "1  BATTERY; WOLFBONE 1 CTB (AKA REEVES TXL 1 BTY)         2022-04-06 07:00:00   \n",
       "2        COMPRESSOR STATION; REEVES SJD SEC 15 CS         2022-04-06 07:00:00   \n",
       "\n",
       "   child_lat   child_long     obs_id        obs_datetime  obs_lat   obs_long  \\\n",
       "0   32.29915   -104.06561    9Y84LZ6 2022-03-24 16:13:42  32.2987  -104.0665   \n",
       "1  31.271452  -103.318574  9XS28ET_1 2022-02-11 00:43:00  31.2719  -103.3187   \n",
       "2  31.271308  -103.312525  9XS28ET_2 2022-02-11 00:43:00   31.272  -103.3115   \n",
       "\n",
       "    obs_q obs_sensor                                              SHAPE  \n",
       "0   230.0  GHGSat-C2  {\"x\": -11584585.9475, \"y\": 3802659.0424000025,...  \n",
       "1  2766.0  GHGSat-C2  {\"x\": -11501420.9435, \"y\": 3668070.8312000036,...  \n",
       "2  1421.0  GHGSat-C2  {\"x\": -11500747.556, \"y\": 3668052.080600001, \"...  "
      ]
     },
     "execution_count": 50,
     "metadata": {},
     "output_type": "execute_result"
    }
   ],
   "source": [
    "# Load aerial observations layer from external studies compiled feature service\n",
    "external_studies_compiled_item = gis.content.get(external_studies_compiled_fs_id)\n",
    "external_studies_compiled_layers = external_studies_compiled_item.layers\n",
    "aerial_obs_fset = external_studies_compiled_layers[0].query()\n",
    "aerial_obs_fset.sdf"
   ]
  },
  {
   "cell_type": "code",
   "execution_count": 51,
   "id": "c9f02c7a",
   "metadata": {},
   "outputs": [
    {
     "data": {
      "text/html": [
       "<div>\n",
       "<style scoped>\n",
       "    .dataframe tbody tr th:only-of-type {\n",
       "        vertical-align: middle;\n",
       "    }\n",
       "\n",
       "    .dataframe tbody tr th {\n",
       "        vertical-align: top;\n",
       "    }\n",
       "\n",
       "    .dataframe thead th {\n",
       "        text-align: right;\n",
       "    }\n",
       "</style>\n",
       "<table border=\"1\" class=\"dataframe\">\n",
       "  <thead>\n",
       "    <tr style=\"text-align: right;\">\n",
       "      <th></th>\n",
       "      <th>obs_id</th>\n",
       "      <th>obs_datetime</th>\n",
       "      <th>obs_lat</th>\n",
       "      <th>obs_long</th>\n",
       "      <th>obs_q</th>\n",
       "      <th>obs_sensor</th>\n",
       "      <th>geometry</th>\n",
       "    </tr>\n",
       "  </thead>\n",
       "  <tbody>\n",
       "  </tbody>\n",
       "</table>\n",
       "</div>"
      ],
      "text/plain": [
       "Empty GeoDataFrame\n",
       "Columns: [obs_id, obs_datetime, obs_lat, obs_long, obs_q, obs_sensor, geometry]\n",
       "Index: []"
      ]
     },
     "execution_count": 51,
     "metadata": {},
     "output_type": "execute_result"
    }
   ],
   "source": [
    "# Select those rows in aerial_obs_csv that are not in aerial_obs_fset using obs_id field\n",
    "new_rows_gdf = aerial_obs_gdf[~aerial_obs_gdf['obs_id'].isin(aerial_obs_fset.sdf['obs_id'])]\n",
    "new_rows_gdf"
   ]
  },
  {
   "cell_type": "markdown",
   "id": "53f07415",
   "metadata": {},
   "source": [
    "## Load new aerial observations into compiled database"
   ]
  },
  {
   "cell_type": "markdown",
   "id": "dcaa03ae",
   "metadata": {},
   "source": [
    "### Perform spatial join of new aerial observations against MCBU facilities data"
   ]
  },
  {
   "cell_type": "code",
   "execution_count": 41,
   "id": "0ae75cd7",
   "metadata": {},
   "outputs": [],
   "source": [
    "# Load the MCBU facilities data into a GDF\n",
    "mcbu_facilities = gis.content.get(facilities_layer_id)\n",
    "\n",
    "# Create blank list to store results\n",
    "mcbu_facilities_list = []\n",
    "\n",
    "# Iterate over the layers in the collection\n",
    "for layer in mcbu_facilities.layers:\n",
    "\n",
    "    # Check layer type to only process points\n",
    "    if layer.properties.geometryType == 'esriGeometryPoint':\n",
    "        \n",
    "        # Convert the feature layer to a GDF\n",
    "        facilities_gdf = FeatureToGdf(layer)\n",
    "\n",
    "        # Append the gdf to the list\n",
    "        mcbu_facilities_list.append(facilities_gdf)\n",
    "        \n",
    "    else:\n",
    "        continue\n",
    "    \n",
    "# Combine all the df's into a single df for all the years\n",
    "mcbu_facilities_gdf = pd.concat(mcbu_facilities_list, axis=0)\n",
    "\n",
    "# Format the date fields as datetime\n",
    "mcbu_facilities_gdf['MCBU_GIS_DATA_RECEIVED_DATE'] = pd.to_datetime(\n",
    "    mcbu_facilities_gdf['MCBU_GIS_DATA_RECEIVED_DATE'], unit='ms')\n",
    "\n",
    "mcbu_facilities_gdf['MCBU_GIS_DATA_UPLOADED_DATE'] = pd.to_datetime(\n",
    "    mcbu_facilities_gdf['MCBU_GIS_DATA_UPLOADED_DATE'], unit='ms')\n",
    "\n",
    "# Set the CRS\n",
    "mcbu_facilities_gdf = mcbu_facilities_gdf.set_crs(epsg=4267)\n",
    "#mcbu_facilities_gdf"
   ]
  },
  {
   "cell_type": "code",
   "execution_count": 42,
   "id": "2e41fa29",
   "metadata": {},
   "outputs": [
    {
     "name": "stderr",
     "output_type": "stream",
     "text": [
      "C:\\Users\\ekqo\\Miniconda3\\envs\\arcgis\\lib\\site-packages\\geopandas\\array.py:341: UserWarning: Geometry is in a geographic CRS. Results from 'sjoin_nearest' are likely incorrect. Use 'GeoSeries.to_crs()' to re-project geometries to a projected CRS before this operation.\n",
      "\n",
      "  warnings.warn(\n"
     ]
    },
    {
     "data": {
      "text/html": [
       "<div>\n",
       "<style scoped>\n",
       "    .dataframe tbody tr th:only-of-type {\n",
       "        vertical-align: middle;\n",
       "    }\n",
       "\n",
       "    .dataframe tbody tr th {\n",
       "        vertical-align: top;\n",
       "    }\n",
       "\n",
       "    .dataframe thead th {\n",
       "        text-align: right;\n",
       "    }\n",
       "</style>\n",
       "<table border=\"1\" class=\"dataframe\">\n",
       "  <thead>\n",
       "    <tr style=\"text-align: right;\">\n",
       "      <th></th>\n",
       "      <th>obs_id</th>\n",
       "      <th>obs_datetime</th>\n",
       "      <th>obs_lat</th>\n",
       "      <th>obs_long</th>\n",
       "      <th>obs_q</th>\n",
       "      <th>obs_sensor</th>\n",
       "      <th>geometry</th>\n",
       "      <th>index_right</th>\n",
       "      <th>OBJECTID</th>\n",
       "      <th>FOT_ASSET_NAME</th>\n",
       "      <th>...</th>\n",
       "      <th>BTU_RATE</th>\n",
       "      <th>HP</th>\n",
       "      <th>TANK_ENG_SERVICE</th>\n",
       "      <th>MCBU_GIS_CHILD_CLASS_SYBMOL</th>\n",
       "      <th>MCBU_GIS_DATA_UPLOADED_BY</th>\n",
       "      <th>MCBU_GIS_DATA_SOURCE_NAME</th>\n",
       "      <th>MCBU_GIS_DATA_SOURCE_TYPE</th>\n",
       "      <th>MCBU_GIS_DATA_REMARKS</th>\n",
       "      <th>MCBU_GIS_DATA_RECEIVED_DATE</th>\n",
       "      <th>MCBU_GIS_DATA_UPLOADED_DATE</th>\n",
       "    </tr>\n",
       "  </thead>\n",
       "  <tbody>\n",
       "    <tr>\n",
       "      <th>1</th>\n",
       "      <td>9XS28ET_1</td>\n",
       "      <td>2022-02-10 16:43:00</td>\n",
       "      <td>31.2719</td>\n",
       "      <td>-103.3187</td>\n",
       "      <td>2766</td>\n",
       "      <td>GHGSat-C2</td>\n",
       "      <td>POINT (-103.31870 31.27190)</td>\n",
       "      <td>80</td>\n",
       "      <td>38422399</td>\n",
       "      <td>Ft. Stockton</td>\n",
       "      <td>...</td>\n",
       "      <td>None</td>\n",
       "      <td>None</td>\n",
       "      <td>None</td>\n",
       "      <td>BATTERY</td>\n",
       "      <td>svc-mcbu-gis-fmeT</td>\n",
       "      <td>FDS DATABASE</td>\n",
       "      <td>MS_SQL_VIEW</td>\n",
       "      <td></td>\n",
       "      <td>2022-04-06</td>\n",
       "      <td>2022-04-06</td>\n",
       "    </tr>\n",
       "    <tr>\n",
       "      <th>2</th>\n",
       "      <td>9XS28ET_2</td>\n",
       "      <td>2022-02-10 16:43:00</td>\n",
       "      <td>31.2720</td>\n",
       "      <td>-103.3115</td>\n",
       "      <td>1421</td>\n",
       "      <td>GHGSat-C2</td>\n",
       "      <td>POINT (-103.31150 31.27200)</td>\n",
       "      <td>72</td>\n",
       "      <td>38421262</td>\n",
       "      <td>Ft. Stockton</td>\n",
       "      <td>...</td>\n",
       "      <td>None</td>\n",
       "      <td>None</td>\n",
       "      <td>None</td>\n",
       "      <td>COMPRESSOR STATION</td>\n",
       "      <td>svc-mcbu-gis-fmeT</td>\n",
       "      <td>FDS DATABASE</td>\n",
       "      <td>MS_SQL_VIEW</td>\n",
       "      <td></td>\n",
       "      <td>2022-04-06</td>\n",
       "      <td>2022-04-06</td>\n",
       "    </tr>\n",
       "  </tbody>\n",
       "</table>\n",
       "<p>2 rows × 42 columns</p>\n",
       "</div>"
      ],
      "text/plain": [
       "      obs_id        obs_datetime  obs_lat  obs_long  obs_q obs_sensor  \\\n",
       "1  9XS28ET_1 2022-02-10 16:43:00  31.2719 -103.3187   2766  GHGSat-C2   \n",
       "2  9XS28ET_2 2022-02-10 16:43:00  31.2720 -103.3115   1421  GHGSat-C2   \n",
       "\n",
       "                      geometry  index_right  OBJECTID FOT_ASSET_NAME  ...  \\\n",
       "1  POINT (-103.31870 31.27190)           80  38422399   Ft. Stockton  ...   \n",
       "2  POINT (-103.31150 31.27200)           72  38421262   Ft. Stockton  ...   \n",
       "\n",
       "  BTU_RATE    HP TANK_ENG_SERVICE MCBU_GIS_CHILD_CLASS_SYBMOL  \\\n",
       "1     None  None             None                     BATTERY   \n",
       "2     None  None             None          COMPRESSOR STATION   \n",
       "\n",
       "  MCBU_GIS_DATA_UPLOADED_BY MCBU_GIS_DATA_SOURCE_NAME  \\\n",
       "1         svc-mcbu-gis-fmeT              FDS DATABASE   \n",
       "2         svc-mcbu-gis-fmeT              FDS DATABASE   \n",
       "\n",
       "  MCBU_GIS_DATA_SOURCE_TYPE MCBU_GIS_DATA_REMARKS MCBU_GIS_DATA_RECEIVED_DATE  \\\n",
       "1               MS_SQL_VIEW                                        2022-04-06   \n",
       "2               MS_SQL_VIEW                                        2022-04-06   \n",
       "\n",
       "  MCBU_GIS_DATA_UPLOADED_DATE  \n",
       "1                  2022-04-06  \n",
       "2                  2022-04-06  \n",
       "\n",
       "[2 rows x 42 columns]"
      ]
     },
     "execution_count": 42,
     "metadata": {},
     "output_type": "execute_result"
    }
   ],
   "source": [
    "# Use spatial join to find nearest facility to each aerial observation\n",
    "new_rows_joined_gdf = gpd.sjoin_nearest(new_rows_gdf, mcbu_facilities_gdf, how='inner', max_distance=0.01)\n",
    "new_rows_joined_gdf"
   ]
  },
  {
   "cell_type": "code",
   "execution_count": 52,
   "id": "c0c5457c",
   "metadata": {},
   "outputs": [],
   "source": [
    "# Assign facility lat/lon to geometry for new rows\n",
    "new_rows_joined_facilityCoord_gdf = gpd.GeoDataFrame(\n",
    "    new_rows_joined_gdf, geometry=gpd.points_from_xy(new_rows_joined_gdf.CHILD_LONG, new_rows_joined_gdf.CHILD_LAT, crs=\"EPSG:\" + str(new_rows_joined_gdf.crs.to_epsg())))\n",
    "#new_rows_joined_facilityCoord_gdf.style"
   ]
  },
  {
   "cell_type": "code",
   "execution_count": 53,
   "id": "52f55ebd",
   "metadata": {},
   "outputs": [
    {
     "name": "stderr",
     "output_type": "stream",
     "text": [
      "C:\\Users\\ekqo\\Miniconda3\\envs\\arcgis\\lib\\site-packages\\pyproj\\crs\\crs.py:131: FutureWarning: '+init=<authority>:<code>' syntax is deprecated. '<authority>:<code>' is the preferred initialization method. When making the change, be mindful of axis order changes: https://pyproj4.github.io/pyproj/stable/gotchas.html#axis-order-changes-in-proj-6\n",
      "  in_crs_string = _prepare_from_proj_string(in_crs_string)\n"
     ]
    }
   ],
   "source": [
    "# Reproject points to CRS of aerial observation feature layer\n",
    "new_rows_joined_facilityCoord_gdf = new_rows_joined_facilityCoord_gdf.to_crs(\n",
    "    {'init': 'epsg:' + str(aerial_obs_fset.spatial_reference['latestWkid'])})\n",
    "#new_rows_joined_facilityCoord_gdf.style"
   ]
  },
  {
   "cell_type": "markdown",
   "id": "5ac8435c",
   "metadata": {},
   "source": [
    "### Create features from new rows"
   ]
  },
  {
   "cell_type": "code",
   "execution_count": 54,
   "id": "f047dc6f",
   "metadata": {},
   "outputs": [
    {
     "name": "stdout",
     "output_type": "stream",
     "text": [
      "Creating entry for obs_id: 9XS28ET_1\n",
      "Creating entry for obs_id: 9XS28ET_2\n"
     ]
    }
   ],
   "source": [
    "# Get an example feature\n",
    "features_for_update = aerial_obs_fset.features[0]\n",
    "\n",
    "# Get a template feature object\n",
    "template_feature = deepcopy(features_for_update)\n",
    "\n",
    "# List of features to be added\n",
    "features_to_be_added = []\n",
    "\n",
    "# loop through each row and add to the list of features to be added\n",
    "for row in new_rows_joined_facilityCoord_gdf.iterrows():\n",
    "    new_feature = deepcopy(template_feature)\n",
    "\n",
    "    # Print status\n",
    "    print(\"Creating entry for obs_id: \" + row[1]['obs_id'])\n",
    "\n",
    "    # Format the geometry information dictionary\n",
    "    output_geometry = {'x': row[1].geometry.x, 'y': row[1].geometry.y,\n",
    "                       \"spatialReference\": {\"wkid\": aerial_obs_fset.spatial_reference['wkid'], \"latestWkid\": aerial_obs_fset.spatial_reference['latestWkid']}}\n",
    "\n",
    "    # Assign the updated values\n",
    "    new_feature.geometry = output_geometry\n",
    "    new_feature.attributes['fot_asset_name'] = row[1]['FOT_ASSET_NAME']\n",
    "    new_feature.attributes['child_obj_code'] = row[1]['CHILD_OBJ_CODE']\n",
    "    new_feature.attributes['child_obj_desc'] = row[1]['CHILD_OBJ_DESC']\n",
    "    new_feature.attributes['mcbu_gis_data_uploaded_date'] = int(\n",
    "        datetime.timestamp(row[1]['MCBU_GIS_DATA_UPLOADED_DATE'])*1000)\n",
    "    new_feature.attributes['child_lat'] = float(row[1]['CHILD_LAT'])\n",
    "    new_feature.attributes['child_long'] = float(row[1]['CHILD_LONG'])\n",
    "    new_feature.attributes['obs_id'] = row[1]['obs_id']\n",
    "    new_feature.attributes['obs_datetime'] = int(\n",
    "        datetime.timestamp(row[1]['obs_datetime'])*1000)\n",
    "    new_feature.attributes['obs_lat'] = float(row[1]['obs_lat'])\n",
    "    new_feature.attributes['obs_long'] = float(row[1]['obs_long'])\n",
    "    new_feature.attributes['obs_q'] = float(row[1]['obs_q'])\n",
    "    new_feature.attributes['obs_sensor'] = row[1]['obs_sensor']\n",
    "    new_feature.attributes['SHAPE'] = output_geometry\n",
    "\n",
    "    # add this to the list of features to be updated\n",
    "    features_to_be_added.append(new_feature)\n",
    "\n",
    "#features_to_be_added"
   ]
  },
  {
   "cell_type": "markdown",
   "id": "cf8b29cc",
   "metadata": {},
   "source": [
    "### Update the aerial observations layer on MapHub"
   ]
  },
  {
   "cell_type": "code",
   "execution_count": 46,
   "id": "d24a94c6",
   "metadata": {},
   "outputs": [
    {
     "data": {
      "text/plain": [
       "{'addResults': [{'objectId': 7, 'success': True},\n",
       "  {'objectId': 8, 'success': True}],\n",
       " 'updateResults': [],\n",
       " 'deleteResults': [],\n",
       " 'attachments': {'addResults': [], 'updateResults': [], 'deleteResults': []}}"
      ]
     },
     "execution_count": 46,
     "metadata": {},
     "output_type": "execute_result"
    }
   ],
   "source": [
    "# Add the new features to the feature layer\n",
    "aerial_obs_flayer = aerial_obs_layers[0]\n",
    "aerial_obs_flayer.edit_features(adds = features_to_be_added)"
   ]
  }
 ],
 "metadata": {
  "kernelspec": {
   "display_name": "Python 3 (ipykernel)",
   "language": "python",
   "name": "python3"
  },
  "language_info": {
   "codemirror_mode": {
    "name": "ipython",
    "version": 3
   },
   "file_extension": ".py",
   "mimetype": "text/x-python",
   "name": "python",
   "nbconvert_exporter": "python",
   "pygments_lexer": "ipython3",
   "version": "3.10.2"
  }
 },
 "nbformat": 4,
 "nbformat_minor": 5
}
