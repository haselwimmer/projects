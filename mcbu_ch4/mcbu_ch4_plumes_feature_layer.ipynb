{
 "cells": [
  {
   "cell_type": "markdown",
   "id": "3fd86a60",
   "metadata": {},
   "source": [
    "## Import libraries"
   ]
  },
  {
   "cell_type": "code",
   "execution_count": 1,
   "id": "118bccf3",
   "metadata": {},
   "outputs": [],
   "source": [
    "import os\n",
    "import datetime\n",
    "import json\n",
    "#import shutil\n",
    "\n",
    "#import matplotlib.pyplot as plt\n",
    "import pandas as pd\n",
    "import geopandas as gpd\n",
    "import arcgis\n",
    "from arcgis.gis import GIS\n",
    "from arcgis.features import FeatureLayerCollection\n",
    "#from arcgis.features import GeoAccessor\n",
    "#import contextily as cx"
   ]
  },
  {
   "cell_type": "markdown",
   "id": "a7905927",
   "metadata": {},
   "source": [
    "## Workflow\n",
    "1. Import rows for plumes data as gdf from: a) CSV file; b) online source\n",
    "2. Reformat imported rows as necessary\n",
    "3. Join to facilities points\n",
    "4. Convert gdf to ESRI spatial data frame\n",
    "5. Insert joined rows into table if row doesn't already exist"
   ]
  },
  {
   "cell_type": "markdown",
   "id": "55449fbb",
   "metadata": {},
   "source": [
    "## Initiate the MapHub connection"
   ]
  },
  {
   "cell_type": "code",
   "execution_count": 2,
   "id": "500523bf",
   "metadata": {},
   "outputs": [
    {
     "name": "stdout",
     "output_type": "stream",
     "text": [
      "Please sign in to your GIS and paste the code that is obtained below.\n",
      "If a web browser does not automatically open, please navigate to the URL below yourself instead.\n",
      "Opening web browser to navigate to: https://maphub-amer.tst.azure.chevron.com/portal/sharing/rest//oauth2/authorize?response_type=code&client_id=bb6vn14P957pN6bV&redirect_uri=urn%3Aietf%3Awg%3Aoauth%3A2.0%3Aoob&state=bDzQo3Efxnkxt2yf3hXH7Uo1X050Me\n",
      "Enter code obtained on signing in using SAML: ········\n"
     ]
    },
    {
     "name": "stderr",
     "output_type": "stream",
     "text": [
      "C:\\Users\\ekqo\\Miniconda3\\envs\\arcgis\\lib\\site-packages\\urllib3\\connectionpool.py:1043: InsecureRequestWarning: Unverified HTTPS request is being made to host 'maphub-amer.tst.azure.chevron.com'. Adding certificate verification is strongly advised. See: https://urllib3.readthedocs.io/en/1.26.x/advanced-usage.html#ssl-warnings\n",
      "  warnings.warn(\n"
     ]
    },
    {
     "name": "stdout",
     "output_type": "stream",
     "text": [
      "Logged in as: ekqo\n"
     ]
    }
   ],
   "source": [
    "gis = GIS(\"https://maphub-amer.tst.azure.chevron.com/portal\", client_id='bb6vn14P957pN6bV')\n",
    "print(\"Logged in as: \" + gis.properties.user.username)"
   ]
  },
  {
   "cell_type": "markdown",
   "id": "6d491f30",
   "metadata": {},
   "source": [
    "## Access the summary plumes feature service"
   ]
  },
  {
   "cell_type": "code",
   "execution_count": null,
   "id": "9b7efbaf",
   "metadata": {},
   "outputs": [],
   "source": [
    "# Define layer id\n",
    "layer_id = '36a7df2c14984bb29ae70850cbe43bb4'\n",
    "\n",
    "# Get the plumes item\n",
    "plumes_item = gis.content.get(layer_id)\n",
    "\n",
    "# Get the layer\n",
    "plumes_layers = plumes_item.layers\n",
    "\n",
    "plumes_layers\n",
    "# .query() returns a FeatureSet\n",
    "# plumes_fset = plumes_layers[0].query()\n",
    "\n",
    "# plumes_fset.sdf"
   ]
  },
  {
   "cell_type": "code",
   "execution_count": null,
   "id": "5aff344d",
   "metadata": {},
   "outputs": [],
   "source": [
    "type(plumes_item.layers)"
   ]
  },
  {
   "cell_type": "markdown",
   "id": "8985999c",
   "metadata": {},
   "source": [
    "## Create the plumes summary feature service"
   ]
  },
  {
   "cell_type": "code",
   "execution_count": 3,
   "id": "074fb634",
   "metadata": {},
   "outputs": [
    {
     "data": {
      "text/html": [
       "<div>\n",
       "<style scoped>\n",
       "    .dataframe tbody tr th:only-of-type {\n",
       "        vertical-align: middle;\n",
       "    }\n",
       "\n",
       "    .dataframe tbody tr th {\n",
       "        vertical-align: top;\n",
       "    }\n",
       "\n",
       "    .dataframe thead th {\n",
       "        text-align: right;\n",
       "    }\n",
       "</style>\n",
       "<table border=\"1\" class=\"dataframe\">\n",
       "  <thead>\n",
       "    <tr style=\"text-align: right;\">\n",
       "      <th></th>\n",
       "      <th>sourceId</th>\n",
       "      <th>plumeLat</th>\n",
       "      <th>plumeLon</th>\n",
       "      <th>q</th>\n",
       "      <th>sensor</th>\n",
       "    </tr>\n",
       "  </thead>\n",
       "  <tbody>\n",
       "    <tr>\n",
       "      <th>0</th>\n",
       "      <td>9Y84Iz6</td>\n",
       "      <td>32.2987</td>\n",
       "      <td>-104.0665</td>\n",
       "      <td>230</td>\n",
       "      <td>ghgsat_satellite</td>\n",
       "    </tr>\n",
       "    <tr>\n",
       "      <th>1</th>\n",
       "      <td>9Xs28Et</td>\n",
       "      <td>31.2719</td>\n",
       "      <td>-103.3187</td>\n",
       "      <td>2766</td>\n",
       "      <td>ghgsat_satellite</td>\n",
       "    </tr>\n",
       "    <tr>\n",
       "      <th>2</th>\n",
       "      <td>9Xs28Et</td>\n",
       "      <td>31.2720</td>\n",
       "      <td>-103.3115</td>\n",
       "      <td>1421</td>\n",
       "      <td>ghgsat_satellite</td>\n",
       "    </tr>\n",
       "  </tbody>\n",
       "</table>\n",
       "</div>"
      ],
      "text/plain": [
       "  sourceId  plumeLat  plumeLon     q            sensor\n",
       "0  9Y84Iz6   32.2987 -104.0665   230  ghgsat_satellite\n",
       "1  9Xs28Et   31.2719 -103.3187  2766  ghgsat_satellite\n",
       "2  9Xs28Et   31.2720 -103.3115  1421  ghgsat_satellite"
      ]
     },
     "execution_count": 3,
     "metadata": {},
     "output_type": "execute_result"
    }
   ],
   "source": [
    "# https://developers.arcgis.com/python/guide/accessing-and-creating-content/\n",
    "# http://localhost:8888/notebooks/misc/arcgis-python-api/samples/05_content_publishers/updating_features_in_a_feature_layer.ipynb\n",
    "\n",
    "# Read csv into a df\n",
    "csv = 'plumes.csv'\n",
    "plumes = pd.read_csv(csv)\n",
    "plumes"
   ]
  },
  {
   "cell_type": "code",
   "execution_count": 4,
   "id": "26f7653b",
   "metadata": {},
   "outputs": [
    {
     "ename": "Exception",
     "evalue": "Generate Features error: Server tool execution failed : ERROR 999999: Something unexpected caused the tool to fail. Contact Esri Technical Support (http://esriurl.com/support) to Report a Bug, and refer to the error help for potential solutions or workarounds. ERROR: unable to connect to the database: /enterpriseDatabases/AGSDataStore_ds_1wi0f6rz. Reason: Bad login user Failed to execute (Generate Features for Portal). Failed. Failed to execute (Generate Features for Portal). Failed.\n(Error Code: 0)",
     "output_type": "error",
     "traceback": [
      "\u001b[1;31m---------------------------------------------------------------------------\u001b[0m",
      "\u001b[1;31mException\u001b[0m                                 Traceback (most recent call last)",
      "Input \u001b[1;32mIn [4]\u001b[0m, in \u001b[0;36m<module>\u001b[1;34m\u001b[0m\n\u001b[0;32m      1\u001b[0m \u001b[38;5;66;03m# Import the df into memory as a feature collection\u001b[39;00m\n\u001b[1;32m----> 2\u001b[0m plumes_fc \u001b[38;5;241m=\u001b[39m \u001b[43mgis\u001b[49m\u001b[38;5;241;43m.\u001b[39;49m\u001b[43mcontent\u001b[49m\u001b[38;5;241;43m.\u001b[39;49m\u001b[43mimport_data\u001b[49m\u001b[43m(\u001b[49m\n\u001b[0;32m      3\u001b[0m \u001b[43m    \u001b[49m\u001b[43mplumes\u001b[49m\u001b[43m,\u001b[49m\u001b[43m \u001b[49m\u001b[43mlocation_type\u001b[49m\u001b[38;5;241;43m=\u001b[39;49m\u001b[38;5;124;43m'\u001b[39;49m\u001b[38;5;124;43mcoordinates\u001b[39;49m\u001b[38;5;124;43m'\u001b[39;49m\u001b[43m,\u001b[49m\u001b[43m \u001b[49m\u001b[43mlatitude_field\u001b[49m\u001b[38;5;241;43m=\u001b[39;49m\u001b[38;5;124;43m'\u001b[39;49m\u001b[38;5;124;43mplumeLat\u001b[39;49m\u001b[38;5;124;43m'\u001b[39;49m\u001b[43m,\u001b[49m\u001b[43m \u001b[49m\u001b[43mlongitude_field\u001b[49m\u001b[38;5;241;43m=\u001b[39;49m\u001b[38;5;124;43m'\u001b[39;49m\u001b[38;5;124;43mplumeLon\u001b[39;49m\u001b[38;5;124;43m'\u001b[39;49m\u001b[43m)\u001b[49m\n",
      "File \u001b[1;32m~\\Miniconda3\\envs\\arcgis\\lib\\site-packages\\arcgis\\gis\\__init__.py:6571\u001b[0m, in \u001b[0;36mContentManager.import_data\u001b[1;34m(self, df, address_fields, folder, item_id, **kwargs)\u001b[0m\n\u001b[0;32m   6569\u001b[0m \u001b[38;5;28;01mif\u001b[39;00m item_id:\n\u001b[0;32m   6570\u001b[0m     postdata[\u001b[38;5;124m\"\u001b[39m\u001b[38;5;124mitemIdToCreate\u001b[39m\u001b[38;5;124m\"\u001b[39m] \u001b[38;5;241m=\u001b[39m item_id\n\u001b[1;32m-> 6571\u001b[0m res \u001b[38;5;241m=\u001b[39m \u001b[38;5;28;43mself\u001b[39;49m\u001b[38;5;241;43m.\u001b[39;49m\u001b[43m_portal\u001b[49m\u001b[38;5;241;43m.\u001b[39;49m\u001b[43mcon\u001b[49m\u001b[38;5;241;43m.\u001b[39;49m\u001b[43mpost\u001b[49m\u001b[43m(\u001b[49m\n\u001b[0;32m   6572\u001b[0m \u001b[43m    \u001b[49m\u001b[43mpath\u001b[49m\u001b[43m,\u001b[49m\u001b[43m \u001b[49m\u001b[43mpostdata\u001b[49m\n\u001b[0;32m   6573\u001b[0m \u001b[43m\u001b[49m\u001b[43m)\u001b[49m  \u001b[38;5;66;03m# , use_ordered_dict=True) - OrderedDict >36< PropertyMap\u001b[39;00m\n\u001b[0;32m   6575\u001b[0m fc \u001b[38;5;241m=\u001b[39m FeatureCollection(res[\u001b[38;5;124m\"\u001b[39m\u001b[38;5;124mfeatureCollection\u001b[39m\u001b[38;5;124m\"\u001b[39m][\u001b[38;5;124m\"\u001b[39m\u001b[38;5;124mlayers\u001b[39m\u001b[38;5;124m\"\u001b[39m][\u001b[38;5;241m0\u001b[39m])\n\u001b[0;32m   6576\u001b[0m \u001b[38;5;28;01mreturn\u001b[39;00m fc\n",
      "File \u001b[1;32m~\\Miniconda3\\envs\\arcgis\\lib\\site-packages\\arcgis\\gis\\_impl\\_con\\_connection.py:1074\u001b[0m, in \u001b[0;36mConnection.post\u001b[1;34m(self, path, params, files, **kwargs)\u001b[0m\n\u001b[0;32m   1072\u001b[0m     \u001b[38;5;28;01mraise\u001b[39;00m \u001b[38;5;167;01mException\u001b[39;00m(\u001b[38;5;124m\"\u001b[39m\u001b[38;5;124mAn unknown error occurred: \u001b[39m\u001b[38;5;132;01m%s\u001b[39;00m\u001b[38;5;124m\"\u001b[39m \u001b[38;5;241m%\u001b[39m traceback\u001b[38;5;241m.\u001b[39mformat_exc())\n\u001b[0;32m   1073\u001b[0m retry_count \u001b[38;5;241m=\u001b[39m \u001b[38;5;241m0\u001b[39m\n\u001b[1;32m-> 1074\u001b[0m \u001b[38;5;28;01mreturn\u001b[39;00m \u001b[38;5;28;43mself\u001b[39;49m\u001b[38;5;241;43m.\u001b[39;49m\u001b[43m_handle_response\u001b[49m\u001b[43m(\u001b[49m\n\u001b[0;32m   1075\u001b[0m \u001b[43m    \u001b[49m\u001b[43mresp\u001b[49m\u001b[38;5;241;43m=\u001b[39;49m\u001b[43mresp\u001b[49m\u001b[43m,\u001b[49m\n\u001b[0;32m   1076\u001b[0m \u001b[43m    \u001b[49m\u001b[43mout_path\u001b[49m\u001b[38;5;241;43m=\u001b[39;49m\u001b[43mout_path\u001b[49m\u001b[43m,\u001b[49m\n\u001b[0;32m   1077\u001b[0m \u001b[43m    \u001b[49m\u001b[43mfile_name\u001b[49m\u001b[38;5;241;43m=\u001b[39;49m\u001b[43mfile_name\u001b[49m\u001b[43m,\u001b[49m\n\u001b[0;32m   1078\u001b[0m \u001b[43m    \u001b[49m\u001b[43mtry_json\u001b[49m\u001b[38;5;241;43m=\u001b[39;49m\u001b[43mtry_json\u001b[49m\u001b[43m,\u001b[49m\n\u001b[0;32m   1079\u001b[0m \u001b[43m    \u001b[49m\u001b[43mforce_bytes\u001b[49m\u001b[38;5;241;43m=\u001b[39;49m\u001b[43mkwargs\u001b[49m\u001b[38;5;241;43m.\u001b[39;49m\u001b[43mpop\u001b[49m\u001b[43m(\u001b[49m\u001b[38;5;124;43m\"\u001b[39;49m\u001b[38;5;124;43mforce_bytes\u001b[39;49m\u001b[38;5;124;43m\"\u001b[39;49m\u001b[43m,\u001b[49m\u001b[43m \u001b[49m\u001b[38;5;28;43;01mFalse\u001b[39;49;00m\u001b[43m)\u001b[49m\u001b[43m,\u001b[49m\n\u001b[0;32m   1080\u001b[0m \u001b[43m\u001b[49m\u001b[43m)\u001b[49m\n",
      "File \u001b[1;32m~\\Miniconda3\\envs\\arcgis\\lib\\site-packages\\arcgis\\gis\\_impl\\_con\\_connection.py:625\u001b[0m, in \u001b[0;36mConnection._handle_response\u001b[1;34m(self, resp, file_name, out_path, try_json, force_bytes, ignore_error_key)\u001b[0m\n\u001b[0;32m    623\u001b[0m             \u001b[38;5;28;01mreturn\u001b[39;00m data\n\u001b[0;32m    624\u001b[0m         errorcode \u001b[38;5;241m=\u001b[39m data[\u001b[38;5;124m\"\u001b[39m\u001b[38;5;124merror\u001b[39m\u001b[38;5;124m\"\u001b[39m][\u001b[38;5;124m\"\u001b[39m\u001b[38;5;124mcode\u001b[39m\u001b[38;5;124m\"\u001b[39m] \u001b[38;5;28;01mif\u001b[39;00m \u001b[38;5;124m\"\u001b[39m\u001b[38;5;124mcode\u001b[39m\u001b[38;5;124m\"\u001b[39m \u001b[38;5;129;01min\u001b[39;00m data[\u001b[38;5;124m\"\u001b[39m\u001b[38;5;124merror\u001b[39m\u001b[38;5;124m\"\u001b[39m] \u001b[38;5;28;01melse\u001b[39;00m \u001b[38;5;241m0\u001b[39m\n\u001b[1;32m--> 625\u001b[0m         \u001b[38;5;28;43mself\u001b[39;49m\u001b[38;5;241;43m.\u001b[39;49m\u001b[43m_handle_json_error\u001b[49m\u001b[43m(\u001b[49m\u001b[43mdata\u001b[49m\u001b[43m[\u001b[49m\u001b[38;5;124;43m\"\u001b[39;49m\u001b[38;5;124;43merror\u001b[39;49m\u001b[38;5;124;43m\"\u001b[39;49m\u001b[43m]\u001b[49m\u001b[43m,\u001b[49m\u001b[43m \u001b[49m\u001b[43merrorcode\u001b[49m\u001b[43m)\u001b[49m\n\u001b[0;32m    626\u001b[0m     \u001b[38;5;28;01mreturn\u001b[39;00m data\n\u001b[0;32m    627\u001b[0m \u001b[38;5;28;01melse\u001b[39;00m:\n",
      "File \u001b[1;32m~\\Miniconda3\\envs\\arcgis\\lib\\site-packages\\arcgis\\gis\\_impl\\_con\\_connection.py:648\u001b[0m, in \u001b[0;36mConnection._handle_json_error\u001b[1;34m(self, error, errorcode)\u001b[0m\n\u001b[0;32m    645\u001b[0m                 \u001b[38;5;66;03m# _log.error(errordetail)\u001b[39;00m\n\u001b[0;32m    647\u001b[0m errormessage \u001b[38;5;241m=\u001b[39m errormessage \u001b[38;5;241m+\u001b[39m \u001b[38;5;124m\"\u001b[39m\u001b[38;5;130;01m\\n\u001b[39;00m\u001b[38;5;124m(Error Code: \u001b[39m\u001b[38;5;124m\"\u001b[39m \u001b[38;5;241m+\u001b[39m \u001b[38;5;28mstr\u001b[39m(errorcode) \u001b[38;5;241m+\u001b[39m \u001b[38;5;124m\"\u001b[39m\u001b[38;5;124m)\u001b[39m\u001b[38;5;124m\"\u001b[39m\n\u001b[1;32m--> 648\u001b[0m \u001b[38;5;28;01mraise\u001b[39;00m \u001b[38;5;167;01mException\u001b[39;00m(errormessage)\n",
      "\u001b[1;31mException\u001b[0m: Generate Features error: Server tool execution failed : ERROR 999999: Something unexpected caused the tool to fail. Contact Esri Technical Support (http://esriurl.com/support) to Report a Bug, and refer to the error help for potential solutions or workarounds. ERROR: unable to connect to the database: /enterpriseDatabases/AGSDataStore_ds_1wi0f6rz. Reason: Bad login user Failed to execute (Generate Features for Portal). Failed. Failed to execute (Generate Features for Portal). Failed.\n(Error Code: 0)"
     ]
    }
   ],
   "source": [
    "# Import the df into memory as a feature collection\n",
    "plumes_fc = gis.content.import_data(\n",
    "    plumes, location_type='coordinates', latitude_field='plumeLat', longitude_field='plumeLon')"
   ]
  },
  {
   "cell_type": "code",
   "execution_count": null,
   "id": "36f282a8",
   "metadata": {},
   "outputs": [],
   "source": [
    "# Convert feature collection to json\n",
    "plumes_fc_dict = dict(plumes_fc.properties)\n",
    "plumes_json = json.dumps({\"featureCollection\": {\"layers\": [plumes_fc_dict]}})"
   ]
  },
  {
   "cell_type": "code",
   "execution_count": null,
   "id": "1b878481",
   "metadata": {},
   "outputs": [],
   "source": [
    "# Add the portal\n",
    "plumes_item_properties = {'title': 'CH4 plumes summary table no dates/times',\n",
    "                        'description':'Description to follow',\n",
    "                        'tags': 'CTC-HSE MCBU CH4',\n",
    "                        'text':plumes_json,\n",
    "                        'type':'Feature Collection'}\n",
    "plumes_item = gis.content.add(plumes_item_properties)\n",
    "plumes_item"
   ]
  },
  {
   "cell_type": "markdown",
   "id": "8ebaedb1",
   "metadata": {},
   "source": [
    "## Insert new rows into the plumes summary feature collection"
   ]
  },
  {
   "cell_type": "code",
   "execution_count": null,
   "id": "40327a71",
   "metadata": {},
   "outputs": [],
   "source": [
    "# Query the existing feature layer\n",
    "plumes_flayer = plumes_item.layers[0]\n",
    "plumes_fset = plumes_flayer.query() #querying without any conditions returns all the features\n",
    "plumes_fset.sdf.head()"
   ]
  },
  {
   "cell_type": "markdown",
   "id": "204ecfc8",
   "metadata": {},
   "source": [
    "## Approach to appending data???"
   ]
  },
  {
   "cell_type": "code",
   "execution_count": null,
   "id": "7f21f849",
   "metadata": {},
   "outputs": [],
   "source": [
    "# https://www.esri.com/arcgis-blog/products/arcgis-online/data-management/keeping-layers-updated-by-appending-features-using-the-arcgis-api-for-python/\n",
    "# http://localhost:8888/notebooks/misc/arcgis-python-api/guide/04-feature-data-and-analysis/editing-features.ipynb"
   ]
  },
  {
   "cell_type": "markdown",
   "id": "04263b5d",
   "metadata": {},
   "source": [
    "# Backup"
   ]
  },
  {
   "cell_type": "markdown",
   "id": "c8f01fb3",
   "metadata": {},
   "source": [
    "## Publish the plumes data using the initial dataset"
   ]
  },
  {
   "cell_type": "code",
   "execution_count": 5,
   "id": "c0343395",
   "metadata": {
    "scrolled": true
   },
   "outputs": [
    {
     "data": {
      "text/html": [
       "<div class=\"item_container\" style=\"height: auto; overflow: hidden; border: 1px solid #cfcfcf; border-radius: 2px; background: #f6fafa; line-height: 1.21429em; padding: 10px;\">\n",
       "                    <div class=\"item_left\" style=\"width: 210px; float: left;\">\n",
       "                       <a href='https://maphub-amer.tst.azure.chevron.com/portal/home/item.html?id=04c9e2c2aa294945aafe6ff835d35b77' target='_blank'>\n",
       "                        <img src='https://maphub-amer.tst.azure.chevron.com/portal/portalimages/desktopapp.png' class=\"itemThumbnail\">\n",
       "                       </a>\n",
       "                    </div>\n",
       "\n",
       "                    <div class=\"item_right\"     style=\"float: none; width: auto; overflow: hidden;\">\n",
       "                        <a href='https://maphub-amer.tst.azure.chevron.com/portal/home/item.html?id=04c9e2c2aa294945aafe6ff835d35b77' target='_blank'><b>Plumes CSV</b>\n",
       "                        </a>\n",
       "                        <br/><img src='https://maphub-amer.tst.azure.chevron.com/portal/home/js/jsapi/esri/css/images/item_type_icons/layers16.png' style=\"vertical-align:middle;\">CSV by ekqo\n",
       "                        <br/>Last Modified: March 23, 2022\n",
       "                        <br/>0 comments, 0 views\n",
       "                    </div>\n",
       "                </div>\n",
       "                "
      ],
      "text/plain": [
       "<Item title:\"Plumes CSV\" type:CSV owner:ekqo>"
      ]
     },
     "execution_count": 5,
     "metadata": {},
     "output_type": "execute_result"
    }
   ],
   "source": [
    "# Add the initial csv file and publish that as a web layer\n",
    "csv = 'plumes.csv'\n",
    "item_prop = {'title':'Plumes CSV'}\n",
    "csv_item = gis.content.add(item_properties=item_prop, data=csv)\n",
    "csv_item"
   ]
  },
  {
   "cell_type": "code",
   "execution_count": 6,
   "id": "e2cfe047",
   "metadata": {
    "scrolled": true
   },
   "outputs": [
    {
     "data": {
      "text/html": [
       "<div class=\"item_container\" style=\"height: auto; overflow: hidden; border: 1px solid #cfcfcf; border-radius: 2px; background: #f6fafa; line-height: 1.21429em; padding: 10px;\">\n",
       "                    <div class=\"item_left\" style=\"width: 210px; float: left;\">\n",
       "                       <a href='https://maphub-amer.tst.azure.chevron.com/portal/home/item.html?id=179a3792b00940e1bcc74a400a0eac3b' target='_blank'>\n",
       "                        <img src='https://maphub-amer.tst.azure.chevron.com/portal/portalimages/desktopapp.png' class=\"itemThumbnail\">\n",
       "                       </a>\n",
       "                    </div>\n",
       "\n",
       "                    <div class=\"item_right\"     style=\"float: none; width: auto; overflow: hidden;\">\n",
       "                        <a href='https://maphub-amer.tst.azure.chevron.com/portal/home/item.html?id=179a3792b00940e1bcc74a400a0eac3b' target='_blank'><b>Plumes CSV</b>\n",
       "                        </a>\n",
       "                        <br/><img src='https://maphub-amer.tst.azure.chevron.com/portal/home/js/jsapi/esri/css/images/item_type_icons/featureshosted16.png' style=\"vertical-align:middle;\">Feature Layer Collection by ekqo\n",
       "                        <br/>Last Modified: March 23, 2022\n",
       "                        <br/>0 comments, 0 views\n",
       "                    </div>\n",
       "                </div>\n",
       "                "
      ],
      "text/plain": [
       "<Item title:\"Plumes CSV\" type:Feature Layer Collection owner:ekqo>"
      ]
     },
     "execution_count": 6,
     "metadata": {},
     "output_type": "execute_result"
    }
   ],
   "source": [
    "# publish the csv item into a feature layer\n",
    "params = {'locationType': 'coordinates',\n",
    "          'latitudeFieldName': 'plumeLat', 'longitudeFieldName': 'plumeLon'}\n",
    "plumes_item = csv_item.publish(publish_parameters=params)\n",
    "plumes_item"
   ]
  }
 ],
 "metadata": {
  "kernelspec": {
   "display_name": "Python 3 (ipykernel)",
   "language": "python",
   "name": "python3"
  },
  "language_info": {
   "codemirror_mode": {
    "name": "ipython",
    "version": 3
   },
   "file_extension": ".py",
   "mimetype": "text/x-python",
   "name": "python",
   "nbconvert_exporter": "python",
   "pygments_lexer": "ipython3",
   "version": "3.10.2"
  }
 },
 "nbformat": 4,
 "nbformat_minor": 5
}
