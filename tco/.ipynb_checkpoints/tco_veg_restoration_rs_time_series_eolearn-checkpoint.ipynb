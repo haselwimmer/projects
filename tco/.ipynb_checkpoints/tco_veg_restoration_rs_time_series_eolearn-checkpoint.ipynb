{
 "cells": [
  {
   "cell_type": "markdown",
   "id": "declared-wichita",
   "metadata": {},
   "source": [
    "# TCO Borrow Pits Vegetation Restoration - RS time series with EO Learn"
   ]
  },
  {
   "cell_type": "code",
   "execution_count": 4,
   "id": "antique-lawrence",
   "metadata": {
    "code_folding": []
   },
   "outputs": [
    {
     "ename": "ModuleNotFoundError",
     "evalue": "No module named 'eolearn.core.utilities'",
     "output_type": "error",
     "traceback": [
      "\u001b[1;31m---------------------------------------------------------------------------\u001b[0m",
      "\u001b[1;31mModuleNotFoundError\u001b[0m                       Traceback (most recent call last)",
      "Input \u001b[1;32mIn [4]\u001b[0m, in \u001b[0;36m<cell line: 26>\u001b[1;34m()\u001b[0m\n\u001b[0;32m     24\u001b[0m \u001b[38;5;28;01mfrom\u001b[39;00m \u001b[38;5;21;01meolearn\u001b[39;00m\u001b[38;5;21;01m.\u001b[39;00m\u001b[38;5;21;01mio\u001b[39;00m \u001b[38;5;28;01mimport\u001b[39;00m SentinelHubInputTask, VectorImportTask, ExportToTiffTask\n\u001b[0;32m     25\u001b[0m \u001b[38;5;28;01mfrom\u001b[39;00m \u001b[38;5;21;01meolearn\u001b[39;00m\u001b[38;5;21;01m.\u001b[39;00m\u001b[38;5;21;01mmask\u001b[39;00m \u001b[38;5;28;01mimport\u001b[39;00m JoinMasksTask, MaskFeatureTask\n\u001b[1;32m---> 26\u001b[0m \u001b[38;5;28;01mfrom\u001b[39;00m \u001b[38;5;21;01meolearn\u001b[39;00m\u001b[38;5;21;01m.\u001b[39;00m\u001b[38;5;21;01mgeometry\u001b[39;00m \u001b[38;5;28;01mimport\u001b[39;00m VectorToRasterTask\n\u001b[0;32m     27\u001b[0m \u001b[38;5;28;01mfrom\u001b[39;00m \u001b[38;5;21;01meolearn\u001b[39;00m\u001b[38;5;21;01m.\u001b[39;00m\u001b[38;5;21;01mfeatures\u001b[39;00m \u001b[38;5;28;01mimport\u001b[39;00m NormalizedDifferenceIndexTask\n",
      "File \u001b[1;32m~\\Miniconda3\\envs\\eo-learn\\lib\\site-packages\\eolearn\\geometry\\__init__.py:7\u001b[0m, in \u001b[0;36m<module>\u001b[1;34m\u001b[0m\n\u001b[0;32m      5\u001b[0m \u001b[38;5;28;01mfrom\u001b[39;00m \u001b[38;5;21;01m.\u001b[39;00m\u001b[38;5;21;01mmorphology\u001b[39;00m \u001b[38;5;28;01mimport\u001b[39;00m ErosionTask\n\u001b[0;32m      6\u001b[0m \u001b[38;5;28;01mfrom\u001b[39;00m \u001b[38;5;21;01m.\u001b[39;00m\u001b[38;5;21;01msampling\u001b[39;00m \u001b[38;5;28;01mimport\u001b[39;00m PointSamplingTask, PointSampler, PointRasterSampler\n\u001b[1;32m----> 7\u001b[0m \u001b[38;5;28;01mfrom\u001b[39;00m \u001b[38;5;21;01m.\u001b[39;00m\u001b[38;5;21;01msuperpixel\u001b[39;00m \u001b[38;5;28;01mimport\u001b[39;00m (\n\u001b[0;32m      8\u001b[0m     SuperpixelSegmentationTask, FelzenszwalbSegmentationTask, SlicSegmentationTask, MarkSegmentationBoundariesTask,\n\u001b[0;32m      9\u001b[0m     SuperpixelSegmentation, FelzenszwalbSegmentation, SlicSegmentation, MarkSegmentationBoundaries\n\u001b[0;32m     10\u001b[0m )\n\u001b[0;32m     11\u001b[0m \u001b[38;5;28;01mfrom\u001b[39;00m \u001b[38;5;21;01m.\u001b[39;00m\u001b[38;5;21;01mtransformations\u001b[39;00m \u001b[38;5;28;01mimport\u001b[39;00m VectorToRasterTask, RasterToVectorTask, VectorToRaster, RasterToVector\n\u001b[0;32m     13\u001b[0m __version__ \u001b[38;5;241m=\u001b[39m \u001b[38;5;124m'\u001b[39m\u001b[38;5;124m0.10.1\u001b[39m\u001b[38;5;124m'\u001b[39m\n",
      "File \u001b[1;32m~\\Miniconda3\\envs\\eo-learn\\lib\\site-packages\\eolearn\\geometry\\superpixel.py:20\u001b[0m, in \u001b[0;36m<module>\u001b[1;34m\u001b[0m\n\u001b[0;32m     17\u001b[0m \u001b[38;5;28;01mimport\u001b[39;00m \u001b[38;5;21;01mnumpy\u001b[39;00m \u001b[38;5;28;01mas\u001b[39;00m \u001b[38;5;21;01mnp\u001b[39;00m\n\u001b[0;32m     19\u001b[0m \u001b[38;5;28;01mfrom\u001b[39;00m \u001b[38;5;21;01meolearn\u001b[39;00m\u001b[38;5;21;01m.\u001b[39;00m\u001b[38;5;21;01mcore\u001b[39;00m \u001b[38;5;28;01mimport\u001b[39;00m EOTask, FeatureType, FeatureTypeSet\n\u001b[1;32m---> 20\u001b[0m \u001b[38;5;28;01mfrom\u001b[39;00m \u001b[38;5;21;01meolearn\u001b[39;00m\u001b[38;5;21;01m.\u001b[39;00m\u001b[38;5;21;01mcore\u001b[39;00m\u001b[38;5;21;01m.\u001b[39;00m\u001b[38;5;21;01mutilities\u001b[39;00m \u001b[38;5;28;01mimport\u001b[39;00m renamed_and_deprecated\n\u001b[0;32m     22\u001b[0m LOGGER \u001b[38;5;241m=\u001b[39m logging\u001b[38;5;241m.\u001b[39mgetLogger(\u001b[38;5;18m__name__\u001b[39m)\n\u001b[0;32m     25\u001b[0m \u001b[38;5;28;01mclass\u001b[39;00m \u001b[38;5;21;01mSuperpixelSegmentationTask\u001b[39;00m(EOTask):\n",
      "\u001b[1;31mModuleNotFoundError\u001b[0m: No module named 'eolearn.core.utilities'"
     ]
    }
   ],
   "source": [
    "%reload_ext autoreload\n",
    "%autoreload 2\n",
    "\n",
    "# Import libraries\n",
    "import os\n",
    "import datetime\n",
    "from datetime import date\n",
    "import configparser\n",
    "import copy\n",
    "\n",
    "import numpy as np\n",
    "import pandas as pd\n",
    "import geopandas as gpd\n",
    "import matplotlib.pyplot as plt\n",
    "import plotly.io as pio\n",
    "import plotly.express as px\n",
    "import plotly.graph_objects as go\n",
    "\n",
    "from sentinelhub import UtmZoneSplitter, BBox, CRS, DataCollection, SHConfig, MimeType\n",
    "\n",
    "# Imports from eo-learn and sentinelhub-py\n",
    "from eolearn.core import EOTask, EOPatch, EOWorkflow, linearly_connect_tasks, FeatureType, OverwritePermission, \\\n",
    "    LoadTask, SaveTask, EOExecutor, ExtractBandsTask, MergeFeatureTask, AddFeatureTask\n",
    "from eolearn.io import SentinelHubInputTask, VectorImportTask, ExportToTiffTask\n",
    "from eolearn.mask import JoinMasksTask, MaskFeatureTask\n",
    "from eolearn.geometry import VectorToRasterTask\n",
    "from eolearn.features import NormalizedDifferenceIndexTask"
   ]
  },
  {
   "cell_type": "code",
   "execution_count": null,
   "id": "incoming-formation",
   "metadata": {
    "code_folding": []
   },
   "outputs": [],
   "source": [
    "# Read SentinelHub configuration ID's from your local ini file\n",
    "config_ini = configparser.ConfigParser()\n",
    "config_ini.read('sentinel_hub_config.ini')\n",
    "\n",
    "# Configuration for AWS West (Landsat 8 etc...)\n",
    "aws_west_config = SHConfig()\n",
    "# Instance ID for the Configuration\n",
    "aws_west_config.instance_id = config_ini['Config']['AWS_West_instance_id']\n",
    "# Credentials from the OAuth client\n",
    "aws_west_config.sh_client_id = config_ini['Config']['AWS_West_sh_client_id']\n",
    "aws_west_config.sh_client_secret = config_ini['Config']['AWS_West_sh_client_secret']\n",
    "aws_west_config.save()\n",
    "\n",
    "# Configuration for AWS Europe (Sentinel 2 etc...)\n",
    "aws_europe_config = SHConfig()\n",
    "# Instance ID for the Configuration\n",
    "aws_europe_config.instance_id = config_ini['Config']['AWS_Europe_instance_id']\n",
    "# Credentials from the OAuth client\n",
    "aws_europe_config.sh_client_id = config_ini['Config']['AWS_Europe_sh_client_id']\n",
    "aws_europe_config.sh_client_secret = config_ini['Config']['AWS_Europe_sh_client_secret']\n",
    "aws_europe_config.save()"
   ]
  },
  {
   "cell_type": "code",
   "execution_count": null,
   "id": "exterior-fetish",
   "metadata": {
    "code_folding": []
   },
   "outputs": [],
   "source": [
    "# Set working directory\n",
    "os.chdir(os.path.join('E:/',\n",
    "                      'TCO'))\n",
    "\n",
    "# Set download directory for EO Patches\n",
    "eopatch_folder = os.path.join('eopatches')"
   ]
  },
  {
   "cell_type": "markdown",
   "id": "roman-reviewer",
   "metadata": {},
   "source": [
    "## Open and clean polygons"
   ]
  },
  {
   "cell_type": "code",
   "execution_count": null,
   "id": "specified-platinum",
   "metadata": {},
   "outputs": [],
   "source": [
    "# Open polys\n",
    "polys = gpd.read_file('Beksol_and_Kedendyk_Areas_Borrow_pits.shp')\n",
    "polys_bg = gpd.read_file('Reference_Areas.shp')\n",
    "\n",
    "# Merge polygons\n",
    "polys = pd.concat([polys, polys_bg], axis=0, ignore_index=True)\n",
    "\n",
    "# Define ID field\n",
    "polys['ID'] = polys['Name']\n",
    "\n",
    "# Clean up columns\n",
    "polys.drop(columns=['Id', 'Reference'], inplace=True)\n",
    "\n",
    "# Convert polys to WGS84\n",
    "polys = polys.to_crs(\"EPSG:4326\")\n",
    "\n",
    "# Add column for value\n",
    "polys['value'] = 1\n",
    "\n",
    "#TESTING - pass through only one row\n",
    "polys = polys[:1]"
   ]
  },
  {
   "cell_type": "code",
   "execution_count": null,
   "id": "burning-highlight",
   "metadata": {},
   "outputs": [],
   "source": [
    "polys"
   ]
  },
  {
   "cell_type": "code",
   "execution_count": null,
   "id": "incorporate-action",
   "metadata": {},
   "outputs": [],
   "source": [
    "# Create list of BBOX's from polys\n",
    "bbox_list = []\n",
    "\n",
    "for index, row in polys.iterrows():\n",
    "    bbox_list.append(BBox(bbox=row.geometry.bounds, crs=CRS.WGS84))\n",
    "bbox_list"
   ]
  },
  {
   "cell_type": "markdown",
   "id": "right-evanescence",
   "metadata": {},
   "source": [
    "## Define custom EO tasks"
   ]
  },
  {
   "cell_type": "code",
   "execution_count": null,
   "id": "31f366cf",
   "metadata": {},
   "outputs": [],
   "source": [
    "class MasksMerge:\n",
    "    \"\"\"\n",
    "    Combine different masks together\n",
    "    \"\"\"\n",
    "\n",
    "    def __call__(self, eopatch):\n",
    "\n",
    "        # Broadcast AOI mask\n",
    "        aoi_mask = np.broadcast_to(array=eopatch.mask_timeless['AOI_MASK'], shape=eopatch.mask['IS_DATA'].shape)\n",
    "\n",
    "        # Merge IS_DATA and CLM mask\n",
    "        data_clm_mask = np.logical_and(eopatch.mask['IS_DATA'].astype(np.bool), \n",
    "                                       np.logical_not(eopatch.mask['CLM'].astype(np.bool)))\n",
    "        \n",
    "        # Return the final mask\n",
    "        return np.logical_and(data_clm_mask, aoi_mask.astype(np.bool))"
   ]
  },
  {
   "cell_type": "code",
   "execution_count": null,
   "id": "edcc8a1d",
   "metadata": {},
   "outputs": [],
   "source": [
    "class snwFloat(EOTask):\n",
    "    \"\"\"\n",
    "    Convert SNW probability int to float\n",
    "    \"\"\"\n",
    "    \n",
    "    def execute(self, eopatch):\n",
    "    \n",
    "        # Convert SNW to float\n",
    "        snw_float = eopatch.data['SNW'].astype(np.float)\n",
    "        \n",
    "        # Add the SNW_float feature\n",
    "        eopatch.add_feature(FeatureType.DATA, 'SNW_float', snw_float)\n",
    "        \n",
    "        # Return SNW as float\n",
    "        return eopatch"
   ]
  },
  {
   "cell_type": "code",
   "execution_count": null,
   "id": "ancient-vermont",
   "metadata": {},
   "outputs": [],
   "source": [
    "class StatsCalcTask(EOTask):   \n",
    "    \"\"\"\n",
    "    The task calculates summary stats for a single band input\n",
    "    \n",
    "    Parameters\n",
    "    -----------\n",
    "    input_feature : string\n",
    "        name of data feature type to calculate stats\n",
    "\n",
    "    scalar_name : string\n",
    "        name of scalar \n",
    "\n",
    "    Returns\n",
    "    -----------\n",
    "    eopatch : eopatch object\n",
    "        eopatch with additional scalar feature representing stats values\n",
    "    \n",
    "    \"\"\"\n",
    "    def __init__(self, input_feature, scalar_name):\n",
    "        self.input = input_feature\n",
    "        self.name = scalar_name\n",
    "        \n",
    "    def execute(self, eopatch):\n",
    "        \n",
    "        # Make a clean copy of the input data\n",
    "        data_clean = eopatch.data[self.input]\n",
    "\n",
    "        # Get dimensions of input data\n",
    "        t, w, h, _ = data_clean.shape\n",
    "\n",
    "        # Calculate the mean\n",
    "        mean = np.nanmean(data_clean.reshape(t, w * h), axis=1)\n",
    "        \n",
    "        # Convert 1d to 2d array\n",
    "        mean = mean[:,np.newaxis]     \n",
    "        \n",
    "        # Add the stats into the eopatch\n",
    "        eopatch.add_feature(FeatureType.SCALAR, self.name, mean)\n",
    "        \n",
    "        return eopatch"
   ]
  },
  {
   "cell_type": "markdown",
   "id": "incredible-enforcement",
   "metadata": {},
   "source": [
    "## Define EO Tasks"
   ]
  },
  {
   "cell_type": "code",
   "execution_count": null,
   "id": "through-gateway",
   "metadata": {},
   "outputs": [],
   "source": [
    "# SentinelHub Input Task\n",
    "band_names = ['B02', 'B03', 'B04', 'B08', 'B11', 'B12']\n",
    "addData = SentinelHubInputTask(\n",
    "    bands_feature=(FeatureType.DATA, 'BANDS'),\n",
    "    bands=band_names,\n",
    "    resolution=10,\n",
    "    maxcc=0.05,\n",
    "    data_collection=DataCollection.SENTINEL2_L2A,\n",
    "    additional_data=[(FeatureType.MASK, 'dataMask', 'IS_DATA'),\n",
    "                     (FeatureType.MASK, 'CLM'),\n",
    "                     (FeatureType.DATA, 'SNW')],\n",
    "    time_difference=datetime.timedelta(days=1),\n",
    "    max_threads=5\n",
    ")\n",
    "\n",
    "# Convert SNW to float\n",
    "snwConvert = snwFloat()\n",
    "\n",
    "# Import AOI poly as vector\n",
    "aoiPoly = AddFeature((FeatureType.VECTOR_TIMELESS, 'AOI_POLY'))\n",
    "\n",
    "# Create timeless mask from AOI vector\n",
    "aoiMask = VectorToRaster((FeatureType.VECTOR_TIMELESS, 'AOI_POLY'),\n",
    "                         (FeatureType.MASK_TIMELESS, 'AOI_MASK'),\n",
    "                         values=1,\n",
    "                         values_column='value',\n",
    "                         raster_shape=(FeatureType.MASK, 'IS_DATA'),\n",
    "                         raster_dtype=np.uint8)\n",
    "\n",
    "# Combine all masks together to create IS_VALID mask\n",
    "mergeMasks = AddValidDataMaskTask(MasksMerge(),\n",
    "                                  'IS_VALID'  # name of output mask\n",
    "                                  )\n",
    "\n",
    "# Apply merged mask to bands\n",
    "maskData = MaskFeature((FeatureType.DATA, 'BANDS'),\n",
    "                      (FeatureType.MASK, 'IS_VALID'),\n",
    "                      mask_values=[0])\n",
    "\n",
    "# Apply merged mask to snw\n",
    "maskSnw = MaskFeature((FeatureType.DATA, 'SNW_float'),\n",
    "                      (FeatureType.MASK, 'IS_VALID'),\n",
    "                      mask_values=[0])\n",
    "\n",
    "# NDVI task\n",
    "ndvi = NormalizedDifferenceIndexTask((FeatureType.DATA, 'BANDS_MASKED'), (FeatureType.DATA, 'NDVI'),\n",
    "                                     [band_names.index('B08'), band_names.index('B04')])\n",
    "\n",
    "# Calculate NDVI stats task\n",
    "ndviStats = StatsCalcTask(input_feature='NDVI', \n",
    "                          scalar_name='NDVI_stats')\n",
    "\n",
    "# # Calculate SNW stats task\n",
    "# snwStats = StatsCalcTask(input_feature='SNW_float_masked', \n",
    "#                           scalar_name='NDVI_stats')\n",
    "\n",
    "# Add metadata feature task\n",
    "meta = AddFeature((FeatureType.META_INFO, 'poly_id'))\n",
    "\n",
    "# Save output task\n",
    "save = SaveTask(eopatch_folder, overwrite_permission=OverwritePermission.OVERWRITE_PATCH)"
   ]
  },
  {
   "cell_type": "markdown",
   "id": "valid-florist",
   "metadata": {},
   "source": [
    "## Define EO Workflow"
   ]
  },
  {
   "cell_type": "code",
   "execution_count": null,
   "id": "alert-limit",
   "metadata": {},
   "outputs": [],
   "source": [
    "# Define the workflow\n",
    "nodes = linearly_connect_tasks(\n",
    "    addData,\n",
    "    snwConvert,\n",
    "    aoiPoly,\n",
    "    aoiMask,\n",
    "    mergeMasks,\n",
    "    maskData,\n",
    "    maskSnw,\n",
    "    ndvi,\n",
    "    ndviStats,\n",
    "    meta,\n",
    "    save\n",
    ")\n",
    "\n",
    "workflow = EOWorkflow(nodes)\n",
    "\n",
    "# Let's visualize it\n",
    "%matplotlib inline\n",
    "workflow.dependency_graph()"
   ]
  },
  {
   "cell_type": "markdown",
   "id": "residential-slope",
   "metadata": {},
   "source": [
    "## Run the workflow"
   ]
  },
  {
   "cell_type": "code",
   "execution_count": null,
   "id": "conscious-huntington",
   "metadata": {},
   "outputs": [],
   "source": [
    "%%time\n",
    "\n",
    "# Time interval for the SH request\n",
    "time_interval = ['2021-01-01', date.today()]\n",
    "\n",
    "# Define additional parameters of the workflow\n",
    "execution_args = []\n",
    "for index, bbox in enumerate(bbox_list):\n",
    "    execution_args.append({\n",
    "        addData: {'bbox': bbox, 'time_interval': time_interval},\n",
    "        aoiPoly: {'data': polys.iloc[[index]]},\n",
    "        meta: {'data': polys.iloc[index]['ID']},\n",
    "        save: {'eopatch_folder': f'eopatch_{index}'}\n",
    "    })\n",
    "    \n",
    "# Execute the workflow\n",
    "executor = EOExecutor(workflow, execution_args, save_logs=False)\n",
    "executor.run(workers=1, multiprocess=False)\n",
    "\n",
    "executor.make_report()\n",
    "\n",
    "failed_ids = executor.get_failed_executions()\n",
    "if failed_ids:\n",
    "    raise RuntimeError(f'Execution failed EOPatches with IDs:\\n{failed_ids}\\n'\n",
    "                       f'For more info check report at {executor.get_report_filename()}')"
   ]
  },
  {
   "cell_type": "markdown",
   "id": "dense-product",
   "metadata": {},
   "source": [
    "## Load an eopatch"
   ]
  },
  {
   "cell_type": "code",
   "execution_count": null,
   "id": "genuine-tournament",
   "metadata": {},
   "outputs": [],
   "source": [
    "test = EOPatch.load(os.path.join(eopatch_folder, 'eopatch_0'))\n",
    "test"
   ]
  },
  {
   "cell_type": "code",
   "execution_count": null,
   "id": "interested-drunk",
   "metadata": {},
   "outputs": [],
   "source": [
    "%matplotlib inline\n",
    "fig, ax = plt.subplots(ncols=1, figsize=(11,5))\n",
    "bands = test.data['NDVI']\n",
    "ax.imshow(np.clip(bands[9][..., [0]], a_min=0, a_max=1))"
   ]
  },
  {
   "cell_type": "markdown",
   "id": "favorite-district",
   "metadata": {},
   "source": [
    "## Create summary df for all polygons"
   ]
  },
  {
   "cell_type": "code",
   "execution_count": null,
   "id": "checked-organic",
   "metadata": {},
   "outputs": [],
   "source": [
    "# List to store results\n",
    "temp_list = []\n",
    "\n",
    "# Iterate over the polys\n",
    "for index, row in polys.iterrows():\n",
    "\n",
    "    # Load the eo patch\n",
    "    eopatch_path = os.path.join(eopatch_folder, 'eopatch_' + str(index))\n",
    "    eopatch = EOPatch.load(eopatch_path, lazy_loading=True)\n",
    "\n",
    "    # Load the ndvi and timestamp data\n",
    "    ndvi_stats = sum(eopatch.scalar['NDVI_stats'].tolist(), [])\n",
    "    dates = eopatch.timestamp\n",
    "    \n",
    "    # Convert to df and add the poly_id\n",
    "    poly_df = pd.DataFrame(list(zip(dates, ndvi_stats)), columns =['date', 'ndvi'])\n",
    "    poly_df['poly_id'] = eopatch[FeatureType.META_INFO]['poly_id']\n",
    "\n",
    "    # Append the df to the temporary list\n",
    "    temp_list.append(poly_df)\n",
    "\n",
    "sentinel2_time_series = pd.concat(temp_list, axis=0)\n",
    "sentinel2_time_series = sentinel2_time_series.set_index('date')\n",
    "sentinel2_time_series"
   ]
  },
  {
   "cell_type": "markdown",
   "id": "bibliographic-compact",
   "metadata": {},
   "source": [
    "## Store/restore data"
   ]
  },
  {
   "cell_type": "code",
   "execution_count": null,
   "id": "primary-hungary",
   "metadata": {},
   "outputs": [],
   "source": [
    "%store sentinel2_time_series"
   ]
  },
  {
   "cell_type": "code",
   "execution_count": null,
   "id": "aquatic-alcohol",
   "metadata": {},
   "outputs": [],
   "source": [
    "%store -r sentinel2_time_series"
   ]
  },
  {
   "cell_type": "markdown",
   "id": "accurate-canadian",
   "metadata": {},
   "source": [
    "## Create plots"
   ]
  },
  {
   "cell_type": "code",
   "execution_count": null,
   "id": "imperial-fantasy",
   "metadata": {},
   "outputs": [],
   "source": [
    "fig = go.Figure()\n",
    "\n",
    "for group, data in sentinel2_time_series.groupby('poly_id'):\n",
    "    \n",
    "    data = data.reset_index()\n",
    "\n",
    "    fig.add_trace(\n",
    "        go.Scatter(\n",
    "            x=data['date'],\n",
    "            y=data['ndvi'],\n",
    "            mode=\"lines\",\n",
    "            line=go.scatter.Line(width=1.5),\n",
    "            showlegend=True,\n",
    "            name=group)\n",
    "    )\n",
    "\n",
    "fig.show()"
   ]
  },
  {
   "cell_type": "markdown",
   "id": "steady-vacuum",
   "metadata": {},
   "source": [
    "## Code backup"
   ]
  },
  {
   "cell_type": "code",
   "execution_count": null,
   "id": "heavy-break",
   "metadata": {},
   "outputs": [],
   "source": [
    "\n",
    "#plt.imshow(test.mask_timeless['AOI_MASK'][1][...,[0]]*3.2);\n",
    "\n",
    "\n",
    "# get aspect ratio of image for better plotting\n",
    "image_ratio = test.mask_timeless['AOI_MASK'].shape[0] / test.mask_timeless['AOI_MASK'].shape[1]\n",
    "\n",
    "# plot the mask\n",
    "%matplotlib inline\n",
    "fig = plt.figure(figsize=(20, 15 * image_ratio))\n",
    "plt.imshow(test.mask_timeless['AOI_MASK'], vmin=0, vmax=1)\n",
    "plt.show()"
   ]
  },
  {
   "cell_type": "code",
   "execution_count": null,
   "id": "intelligent-elements",
   "metadata": {},
   "outputs": [],
   "source": [
    "class CountValid(EOTask):   \n",
    "    \"\"\"\n",
    "    The task counts number of valid observations in time-series and stores the results in the timeless mask.\n",
    "    \"\"\"\n",
    "    def __init__(self, count_what, feature_name):\n",
    "        self.what = count_what\n",
    "        self.name = feature_name\n",
    "        \n",
    "    def execute(self, eopatch):\n",
    "        \n",
    "        eopatch.add_feature(FeatureType.MASK_TIMELESS, self.name, np.count_nonzero(eopatch.mask[self.what],axis=0))\n",
    "        \n",
    "        return eopatch\n",
    "    \n",
    "# https://forum.sentinel-hub.com/t/clm-error-in-eolearn-slovenia-land-cover-classification-script/2279/17"
   ]
  },
  {
   "cell_type": "code",
   "execution_count": null,
   "id": "frank-holiday",
   "metadata": {},
   "outputs": [],
   "source": [
    "# List to store results\n",
    "polys_list = []\n",
    "\n",
    "# Testing\n",
    "poly = polys.iloc[[0]]\n",
    "\n",
    "# Iterate over the polys\n",
    "# for index, row in polys.iterrows():\n",
    "for index, row in poly.iterrows():  # Testing\n",
    "\n",
    "    # Load the eo patch\n",
    "    eopatch_path = os.path.join(eopatch_folder, 'eopatch_' + str(index))\n",
    "    eopatch = EOPatch.load(eopatch_path, lazy_loading=True)\n",
    "\n",
    "    # Load the datasets\n",
    "    ndvi = eopatch.data['NDVI']\n",
    "    cloud_mask = eopatch.mask['CLM']\n",
    "    is_data_mask = eopatch.mask['IS_DATA']\n",
    "    aoi_mask = eopatch.mask_timeless['AOI_MASK']\n",
    "\n",
    "    # Create valid data mask from CLM and IS_DATA masks\n",
    "    valid_data_mask = np.logical_and(eopatch.mask['IS_DATA'].astype('bool'),\n",
    "                                     np.logical_not(eopatch.mask['CLM'].astype('bool')))\n",
    "\n",
    "    # Apply valid data mask\n",
    "    ndvi_clean = ndvi.copy()\n",
    "    ndvi_clean[~valid_data_mask] = np.nan\n",
    "\n",
    "    # Calculate the average NDVI for the masked area\n",
    "    ndvi_mean = AOIMaskedDataStats(ndvi_clean,\n",
    "                                   aoi_mask)\n",
    "\n",
    "    # print(eopatch[FeatureType.META_INFO]['poly_id'])"
   ]
  }
 ],
 "metadata": {
  "kernelspec": {
   "display_name": "Python 3 (ipykernel)",
   "language": "python",
   "name": "python3"
  },
  "language_info": {
   "codemirror_mode": {
    "name": "ipython",
    "version": 3
   },
   "file_extension": ".py",
   "mimetype": "text/x-python",
   "name": "python",
   "nbconvert_exporter": "python",
   "pygments_lexer": "ipython3",
   "version": "3.9.6"
  }
 },
 "nbformat": 4,
 "nbformat_minor": 5
}
