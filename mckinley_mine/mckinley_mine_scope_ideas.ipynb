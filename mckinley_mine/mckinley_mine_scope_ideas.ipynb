{
 "cells": [
  {
   "cell_type": "markdown",
   "id": "compact-moral",
   "metadata": {},
   "source": [
    "# McKinley Mine remote sensing data analysis for vegetation monitoring"
   ]
  },
  {
   "cell_type": "markdown",
   "id": "suffering-broadway",
   "metadata": {},
   "source": [
    "### Scope\n",
    "- Analysis of remote sensing data to map and monitor vegetation for priority bond release areas\n",
    "- Use ground data to calibrate vegetation parameters derived from satellite data\n",
    "- Can we use Sentinel data to predict vegetation cover:\n",
    "  - Calibrate Sentinel NDVI using UAS data:\n",
    "    - Directly compare Sentinel NDVI to UAS NDVI by reinterpolating the latter to the Sentinel spatial resolution (20 x 20m pixel = ~0.01 acres); consider collecting UAS data/NDVI over varied expected NDVI values and calculate linear regression between UAS NDVI and Sentinel NDVI; use 70% training and 30% validation.\n",
    "    - Classify UAS data to determine vegetation cover; calculate linear regression model between NDVI and vegetation cover at Sentinel spatial resolution; apply model to Sentinel and compare against validation dataset; consider using footprints of Sentinel pixels to define 'plots' for analysis?\n",
    "    - Validation against field measurements\n",
    "- Can we identify FORB's using Sentinel data:\n",
    "  - Specific FORB's band ratio?\n",
    "- Consider using spectral mixture model as opposed to band ratios? NDVI is sensitive to background soil reflectance."
   ]
  },
  {
   "cell_type": "markdown",
   "id": "polish-motivation",
   "metadata": {},
   "source": [
    "### Ideas\n",
    "- Workflow/architecture:\n",
    "  - Point notebook at COG's hosted on Azure\n",
    "- Vegetation Indices: NDVI? SAVI?\n",
    "- Satellite data analysis:\n",
    "  - SentinelHub (Sentinel 2 + Landsat): \n",
    "    - Average NDVI time series for VMU's; when does NDVI peak over growing season?\n",
    "    - Relate ground measurements to NDVI from satellite data?\n",
    "  - PlanetScope (3m pixels) from May - September 2020:\n",
    "    - Average NDVI time series for VMU's\n",
    "    - Average NDVI time series for transects?\n",
    "  - Skysat (50 cm pixels)\n",
    "- Aerials"
   ]
  },
  {
   "cell_type": "markdown",
   "id": "loved-region",
   "metadata": {},
   "source": [
    "### Generic pseudocode for area average NDVI\n",
    "1. Open VMU boundaries vectors\n",
    "2. Build list of raster datasets; e.g. for Planetscope query subdirectories or for SentinelHub perform API query\n",
    "3. Create empty list to store results for all VMU's \n",
    "4. Loop over VMU's:\n",
    "   - Loop over raster datasets:\n",
    "     - For each raster dataset calculate average NDVI for VMU extent\n",
    "     - Populate into dataframe\n",
    "5. Concatenate the list into a single DF for all VMU's and raster datasets"
   ]
  },
  {
   "cell_type": "markdown",
   "id": "different-baptist",
   "metadata": {},
   "source": [
    "### Project TO-DO\n",
    "1. SentinelHub:\n",
    "   - Use NDSI to filter out snow events/cover or overlay plots\n",
    "   - Add temporal plots from Landsat series\n",
    "   - Re-run workflow with transect/plot locations\n",
    "   - Band ratio for FORB's?\n",
    "2. Skysat:\n",
    "   - Calculate NDVI\n",
    "3. Summary notebook integrating all results?\n",
    "   - Summary plot of all NDVI results"
   ]
  },
  {
   "cell_type": "markdown",
   "id": "owned-girlfriend",
   "metadata": {},
   "source": [
    "### References\n",
    "- Detecting Montane Flowering Phenology with CubeSat Imagery: https://www.mdpi.com/2072-4292/12/18/2894/htm\n",
    "- A comparison of methods for estimating fractional green vegetation cover within a desert-to-upland transition zone in central New Mexico, USA: https://globalecology.unh.edu/papers/2005/Xiao_RSE_2005.pdf\n",
    "- Remote sensing algorithms for estimation of fractional vegetation cover using pure vegetation index values: A review. https://ipl.uv.es/sentiflex/images/Documents/1-s2.0-S0924271619302783-main.pdf\n",
    "- Biomass Estimation for Semiarid Vegetation and Mine Rehabilitation Using Worldview-3 and Sentinel-1 SAR Imagery: https://www.mdpi.com/2072-4292/11/23/2855/htm\n",
    "- LandTrendR: https://emapr.github.io/LT-GEE/landtrendr.html"
   ]
  }
 ],
 "metadata": {
  "kernelspec": {
   "display_name": "Python 3",
   "language": "python",
   "name": "python3"
  },
  "language_info": {
   "codemirror_mode": {
    "name": "ipython",
    "version": 3
   },
   "file_extension": ".py",
   "mimetype": "text/x-python",
   "name": "python",
   "nbconvert_exporter": "python",
   "pygments_lexer": "ipython3",
   "version": "3.7.6"
  }
 },
 "nbformat": 4,
 "nbformat_minor": 5
}
