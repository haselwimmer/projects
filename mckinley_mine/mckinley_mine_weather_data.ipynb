{
 "cells": [
  {
   "cell_type": "code",
   "execution_count": null,
   "id": "protected-butler",
   "metadata": {},
   "outputs": [],
   "source": [
    "# Import libraries\n",
    "import os\n",
    "import matplotlib.pyplot as plt\n",
    "import awherepy.grids as awg\n",
    "import awherepy.weather as aww"
   ]
  },
  {
   "cell_type": "code",
   "execution_count": null,
   "id": "final-integration",
   "metadata": {},
   "outputs": [],
   "source": [
    "# Define aWhere API key and secret\n",
    "awhere_api_key = os.environ.get(\"lmsN0BfA2ujGt84yfGCHJGiqDOWbLN2O\")\n",
    "awhere_api_secret = os.environ.get(\"Xo7bGAxOvB2e7cyL\")"
   ]
  },
  {
   "cell_type": "code",
   "execution_count": null,
   "id": "saving-guyana",
   "metadata": {},
   "outputs": [],
   "source": []
  }
 ],
 "metadata": {
  "kernelspec": {
   "display_name": "Python 3",
   "language": "python",
   "name": "python3"
  },
  "language_info": {
   "codemirror_mode": {
    "name": "ipython",
    "version": 3
   },
   "file_extension": ".py",
   "mimetype": "text/x-python",
   "name": "python",
   "nbconvert_exporter": "python",
   "pygments_lexer": "ipython3",
   "version": "3.7.6"
  }
 },
 "nbformat": 4,
 "nbformat_minor": 5
}
