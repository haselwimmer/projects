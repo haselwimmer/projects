{
 "cells": [
  {
   "cell_type": "markdown",
   "metadata": {},
   "source": [
    "# Raster pre-processing tools"
   ]
  },
  {
   "cell_type": "code",
   "execution_count": 1,
   "metadata": {
    "code_folding": []
   },
   "outputs": [],
   "source": [
    "# Import libraries\n",
    "import glob\n",
    "import os\n",
    "import subprocess\n",
    "from xml.dom import minidom\n",
    "\n",
    "import rasterio\n",
    "from rasterio import uint16\n",
    "import numpy as np\n",
    "from osgeo import gdal"
   ]
  },
  {
   "cell_type": "markdown",
   "metadata": {},
   "source": [
    "### Function to validate Cloud Optimized Geotiff"
   ]
  },
  {
   "cell_type": "code",
   "execution_count": 3,
   "metadata": {
    "code_folding": []
   },
   "outputs": [],
   "source": [
    "def validateCOG(file):\n",
    "    # Validation script must be in same directory\n",
    "    command = \"python validate_cloud_optimized_geotiff.py \" + file\n",
    "    process = subprocess.run(command, stdout=subprocess.PIPE,\n",
    "                             stderr=subprocess.STDOUT, universal_newlines=True)\n",
    "    output = process.stdout\n",
    "    print(output)"
   ]
  },
  {
   "cell_type": "markdown",
   "metadata": {},
   "source": [
    "### Functions to convert geotiff/s to COG"
   ]
  },
  {
   "cell_type": "code",
   "execution_count": 4,
   "metadata": {
    "code_folding": [
     0
    ]
   },
   "outputs": [],
   "source": [
    "def tiledRasterPreprocess(files_list, output_filename, output_dir):\n",
    "    \"\"\"Create COG from single or tiled geotiffs using GDAL < v 3.1\n",
    "    https://gist.github.com/palmerj/ac1e19eb81c986d9634e3a3de7cdfc3d\n",
    "\n",
    "    Parameters\n",
    "    ----------\n",
    "    files : str or list\n",
    "        file path or list of file paths for input geotiff/s\n",
    "\n",
    "    Returns\n",
    "    -------\n",
    "    outputFiles : str\n",
    "        file path for output COG\n",
    "    \"\"\"\n",
    "    # Create a virtual mosaic from the input tiles\n",
    "    output_mosaic = output_dir + \"\\\\\" + output_filename + \"_mosaic.vrt\"\n",
    "    vrt_options = gdal.BuildVRTOptions(resampleAlg='cubic')\n",
    "    vrt = gdal.BuildVRT(output_mosaic, files_list, options=vrt_options)\n",
    "    vrt = None\n",
    "\n",
    "    # Create a bigtiff from the virtual mosaic\n",
    "    # Translate(destName, srcDS, **kwargs)\n",
    "    output_bigtiff = output_dir + \"\\\\\" + output_filename + \"_bigtiff.tif\"\n",
    "    bigtiff_options = gdal.TranslateOptions(format='GTiff',\n",
    "                                            creationOptions=['BIGTIFF=YES',\n",
    "                                                             'TILED=YES',\n",
    "                                                             'COMPRESS=DEFLATE',\n",
    "                                                             'PREDICTOR=2',\n",
    "                                                             'NUM_THREADS=ALL_CPUS'])\n",
    "    bigtiff = gdal.Translate(\n",
    "        output_bigtiff, output_mosaic, options=bigtiff_options)\n",
    "    bigtiff = None\n",
    "\n",
    "    # Create overviews\n",
    "    image = gdal.Open(output_bigtiff)\n",
    "    gdal.SetConfigOption(\"COMPRESS_OVERVIEW\", \"DEFLATE\")\n",
    "    image.BuildOverviews(\"AVERAGE\", [2, 4, 8, 16, 32, 64, 128, 256, 512])\n",
    "\n",
    "    # Create cloud optimized geotiff\n",
    "    output_cog = output_dir + \"\\\\\" + output_filename + \"_cog.tif\"\n",
    "    cog_options = gdal.TranslateOptions(format='GTiff',\n",
    "                                        creationOptions=['BIGTIFF=YES',\n",
    "                                                         'TILED=YES',\n",
    "                                                         'BLOCKXSIZE=256',\n",
    "                                                         'BLOCKYSIZE=256',\n",
    "                                                         'COMPRESS=LZW',\n",
    "                                                         'COPY_SRC_OVERVIEWS=YES'])\n",
    "    cog = gdal.Translate(output_cog, output_bigtiff, options=cog_options)\n",
    "    cog = None\n",
    "\n",
    "    # Validate the COG geotiff\n",
    "    command = \"python validate_cloud_optimized_geotiff.py \" + output_cog\n",
    "    process = subprocess.run(command, stdout=subprocess.PIPE,\n",
    "                             stderr=subprocess.STDOUT, universal_newlines=True)\n",
    "    output = process.stdout\n",
    "    print(output)"
   ]
  },
  {
   "cell_type": "code",
   "execution_count": 6,
   "metadata": {
    "code_folding": []
   },
   "outputs": [],
   "source": [
    "def tiledRasterPreprocessV2(files_list, output_filename, output_dir, separate_bands='FALSE', validate_cog='FALSE'):\n",
    "    \"\"\"Create COG from single or tiled geotiffs using GDAL v 3.1 +\n",
    "\n",
    "    Parameters\n",
    "    ----------\n",
    "    files : str or list\n",
    "        file path or list of file paths for input geotiff/s\n",
    "\n",
    "    Returns\n",
    "    -------\n",
    "    outputFiles : str\n",
    "        file path for output COG\n",
    "    \"\"\"\n",
    "    # Create a virtual mosaic from the input tiles\n",
    "    output_mosaic = output_dir + \"\\\\\" + output_filename + \"_mosaic.vrt\"\n",
    "    vrt_options = gdal.BuildVRTOptions(resampleAlg='cubic')\n",
    "    vrt = gdal.BuildVRT(output_mosaic, files_list, options=vrt_options)\n",
    "    vrt = None\n",
    "\n",
    "    # Query the number of bands\n",
    "    src_ds = gdal.Open(output_mosaic)\n",
    "\n",
    "    # Check to separate bands\n",
    "    if separate_bands == 'TRUE' and src_ds.RasterCount > 1:\n",
    "\n",
    "        # Loop over bands\n",
    "        for x in range(src_ds.RasterCount):\n",
    "            band = x + 1\n",
    "            # output_cog = output_dir + \"\\\\\" + \\\n",
    "            #    output_filename + \"_B\" + str(band) + \"_cog.tif\"\n",
    "\n",
    "            # Just save the file as the Band number for SentinelHub COG ingest\n",
    "            output_cog = output_dir + \"\\\\\" + \"B\" + str(band) + \".tif\"\n",
    "            command = \"-of COG -b \" + \\\n",
    "                str(band) + \" -co BLOCKSIZE=1024 -co COMPRESS=DEFLATE -co RESAMPLING=AVERAGE \\\n",
    "                -co OVERVIEWS=IGNORE_EXISTING -a_nodata 0\"\n",
    "\n",
    "            cog_options = gdal.TranslateOptions(gdal.ParseCommandLine(command))\n",
    "            cog = gdal.Translate(\n",
    "                output_cog, output_mosaic, options=cog_options)\n",
    "            cog = None\n",
    "\n",
    "            # Validate the COG\n",
    "            if validate_cog == 'TRUE':\n",
    "                validateCOG(output_cog)\n",
    "\n",
    "    else:\n",
    "        output_cog = output_dir + \"\\\\\" + output_filename + \"_cog.tif\"\n",
    "        command = \"-of COG -co BLOCKSIZE=1024 -co COMPRESS=DEFLATE -co RESAMPLING=AVERAGE -co OVERVIEWS=IGNORE_EXISTING -co BIGTIFF=YES\"\n",
    "        cog_options = gdal.TranslateOptions(gdal.ParseCommandLine(command))\n",
    "        cog = gdal.Translate(output_cog, output_mosaic, options=cog_options)\n",
    "        cog = None\n",
    "\n",
    "        # Validate the COG\n",
    "        if validate_cog == 'TRUE':\n",
    "            validateCOG(output_cog)"
   ]
  },
  {
   "cell_type": "markdown",
   "metadata": {},
   "source": [
    "### Pre-processing script for KSAT Pleiades data"
   ]
  },
  {
   "cell_type": "code",
   "execution_count": 7,
   "metadata": {
    "code_folding": []
   },
   "outputs": [],
   "source": [
    "# Set working directory\n",
    "input_dir = os.path.join('Z:/',\n",
    "                      'TS',\n",
    "                        '2022',\n",
    "                        '01_NMA_OML49_land_cover',\n",
    "                        'data',\n",
    "                        'PL-Nigeria',\n",
    "                        '202212-PL-Nigeria-Mosaic Tiles') \n",
    "\n",
    "os.chdir(input_dir)"
   ]
  },
  {
   "cell_type": "code",
   "execution_count": 8,
   "metadata": {},
   "outputs": [
    {
     "data": {
      "text/plain": [
       "['202212-PL-Nigeria-Mosaic_1_1.tif',\n",
       " '202212-PL-Nigeria-Mosaic_1_2.tif',\n",
       " '202212-PL-Nigeria-Mosaic_1_3.tif',\n",
       " '202212-PL-Nigeria-Mosaic_1_4.tif',\n",
       " '202212-PL-Nigeria-Mosaic_2_1.tif',\n",
       " '202212-PL-Nigeria-Mosaic_2_2.tif',\n",
       " '202212-PL-Nigeria-Mosaic_2_3.tif',\n",
       " '202212-PL-Nigeria-Mosaic_2_4.tif',\n",
       " '202212-PL-Nigeria-Mosaic_2_5.tif',\n",
       " '202212-PL-Nigeria-Mosaic_3_1.tif',\n",
       " '202212-PL-Nigeria-Mosaic_3_2.tif',\n",
       " '202212-PL-Nigeria-Mosaic_3_3.tif',\n",
       " '202212-PL-Nigeria-Mosaic_3_4.tif',\n",
       " '202212-PL-Nigeria-Mosaic_3_5.tif',\n",
       " '202212-PL-Nigeria-Mosaic_4_1.tif',\n",
       " '202212-PL-Nigeria-Mosaic_4_2.tif',\n",
       " '202212-PL-Nigeria-Mosaic_4_3.tif']"
      ]
     },
     "execution_count": 8,
     "metadata": {},
     "output_type": "execute_result"
    }
   ],
   "source": [
    "# Get the list of input tiles in the current directory\n",
    "files_list = glob.glob(\"*.TIF\")\n",
    "# files_list=files_list[0]\n",
    "files_list"
   ]
  },
  {
   "cell_type": "code",
   "execution_count": 9,
   "metadata": {
    "code_folding": []
   },
   "outputs": [
    {
     "name": "stdout",
     "output_type": "stream",
     "text": [
      "Directory created:Z:/TS\\2022\\01_NMA_OML49_land_cover\\data\\PL-Nigeria\\202212-PL-Nigeria-Mosaic Tiles\\output\n",
      "python: can't open file 'validate_cloud_optimized_geotiff.py': [Errno 2] No such file or directory\n",
      "\n"
     ]
    }
   ],
   "source": [
    "# Create the output filename for multiband output\n",
    "output_filename = \"202212-PL-Nigeria-Mosaic\"\n",
    "\n",
    "# Output directory\n",
    "output_dir = os.path.join(input_dir, 'output')\n",
    "\n",
    "# Check output directory\n",
    "if os.path.isdir(output_dir) is False:\n",
    "    os.mkdir(output_dir)\n",
    "    print(\"Directory created:\" + output_dir)\n",
    "\n",
    "# Run the pre-processing function\n",
    "tiledRasterPreprocessV2(files_list=files_list,\n",
    "                        output_filename=output_filename,\n",
    "                        output_dir=output_dir,\n",
    "                        separate_bands='FALSE',\n",
    "                        validate_cog='TRUE')"
   ]
  },
  {
   "cell_type": "code",
   "execution_count": 18,
   "metadata": {},
   "outputs": [
    {
     "data": {
      "text/plain": [
       "'6070485101'"
      ]
     },
     "execution_count": 18,
     "metadata": {},
     "output_type": "execute_result"
    }
   ],
   "source": [
    "output_dir"
   ]
  },
  {
   "cell_type": "markdown",
   "metadata": {},
   "source": [
    "### Pre-processing script for McKinley Planet Skysat data"
   ]
  },
  {
   "cell_type": "code",
   "execution_count": null,
   "metadata": {
    "code_folding": []
   },
   "outputs": [],
   "source": [
    "# Script for tiled Skysat data\n",
    "# Pattern for a subdirectories\n",
    "\n",
    "input_directory = os.path.join(\n",
    "    \"I:\\\\\", \"CVX_AMER_IMG\", \"ETC\", \"ENVTEC\", \"satellite\", \"cemrec_mc_kinley\", \"2020\", \"skysat\", \"source_data\")\n",
    "\n",
    "# Get the list of input tiles\n",
    "files_list = glob.glob(os.path.join(\n",
    "    input_directory, \"*_analytic_cliptoAOI.tif\"))\n",
    "\n",
    "# Check if there are any files conforming to wild card in the directory\n",
    "if not files_list:\n",
    "    print('test')\n",
    "else:\n",
    "    # Run the pre-processing function\n",
    "    tiledRasterPreprocessV2(files_list=files_list,\n",
    "                            output_filename=\"McKinley_Skysat\",\n",
    "                            output_dir=input_directory,\n",
    "                            separate_bands='FALSE',\n",
    "                            validate_cog='FALSE')"
   ]
  },
  {
   "cell_type": "code",
   "execution_count": 5,
   "metadata": {},
   "outputs": [],
   "source": [
    "# Script for mosaicked Skysat data\n",
    "input_directory = os.path.join(\n",
    "    \"D:\\\\\", \"McKinley\", \"skysat\")\n",
    "\n",
    "# Get the list of input tiles\n",
    "files_list = glob.glob(os.path.join(\n",
    "    input_directory, \"*.tif\"))\n",
    "\n",
    "# Check if there are any files conforming to wild card in the directory\n",
    "if not files_list:\n",
    "    print('No files')\n",
    "else:\n",
    "    # Run the pre-processing function\n",
    "    tiledRasterPreprocessV2(files_list=files_list,\n",
    "                            output_filename=\"skysat_mosaic_50cm_cog\",\n",
    "                            output_dir=input_directory,\n",
    "                            separate_bands='FALSE',\n",
    "                            validate_cog='FALSE')"
   ]
  },
  {
   "cell_type": "code",
   "execution_count": 8,
   "metadata": {},
   "outputs": [
    {
     "name": "stdout",
     "output_type": "stream",
     "text": [
      "D:\\McKinley\\skysat\\skysat_mosaic_50cm_cog_cog.tif is a valid cloud optimized GeoTIFF\n",
      "\n",
      "The size of all IFD headers is 12812 bytes\n",
      "\n"
     ]
    }
   ],
   "source": [
    "file = os.path.join(\n",
    "    \"D:\\\\\", \"McKinley\", \"skysat\", \"skysat_mosaic_50cm_cog_cog.tif\")\n",
    "\n",
    "validateCOG(file)"
   ]
  },
  {
   "cell_type": "markdown",
   "metadata": {},
   "source": [
    "### Pre-processing script for McKinley orthos"
   ]
  },
  {
   "cell_type": "code",
   "execution_count": null,
   "metadata": {
    "code_folding": [
     0
    ]
   },
   "outputs": [],
   "source": [
    "# Pattern for a subdirectories\n",
    "input_directory = os.path.join(\n",
    "    \"I:\\\\\", \"CVX_AMER_IMG\", \"ETC\", \"ENVTEC\", \"aerial\", \"cemrec_mckinley\", \"2020\", \"01_4band_ortho_tiles_2\")    \n",
    "    \n",
    "# Get top-level subdirectories\n",
    "dirs = glob.glob(input_directory)\n",
    "\n",
    "# Loop through each directory and get the tiffs in the files directories\n",
    "for dir in dirs:\n",
    "    \n",
    "    print(dir)\n",
    "    \n",
    "    # Get the list of input tiles\n",
    "    #files_list = glob.glob(os.path.join(dir, \"files\", \"*_AnalyticMS_clip.tif\"))\n",
    "    files_list = glob.glob(os.path.join(dir, \"*.tif\"))\n",
    "    \n",
    "    # Check if there are any files conforming to wild card in the directory\n",
    "    if not files_list:\n",
    "        continue\n",
    "    else:\n",
    "        # Run the pre-processing function\n",
    "        tiledRasterPreprocessV2(files_list=files_list,\n",
    "                                output_filename=\"McKinley_NM_Ortho\",\n",
    "                                output_dir=dir,\n",
    "                                separate_bands='FALSE',\n",
    "                                validate_cog='FALSE')"
   ]
  }
 ],
 "metadata": {
  "kernelspec": {
   "display_name": "Python 3",
   "language": "python",
   "name": "python3"
  },
  "language_info": {
   "codemirror_mode": {
    "name": "ipython",
    "version": 3
   },
   "file_extension": ".py",
   "mimetype": "text/x-python",
   "name": "python",
   "nbconvert_exporter": "python",
   "pygments_lexer": "ipython3",
   "version": "3.8.8"
  }
 },
 "nbformat": 4,
 "nbformat_minor": 4
}
