{
 "cells": [
  {
   "cell_type": "markdown",
   "metadata": {},
   "source": [
    "# Raster pre-processing tools"
   ]
  },
  {
   "cell_type": "code",
   "execution_count": 1,
   "metadata": {
    "code_folding": []
   },
   "outputs": [],
   "source": [
    "# Import libraries\n",
    "import glob\n",
    "import os\n",
    "import subprocess\n",
    "from xml.dom import minidom\n",
    "\n",
    "import rasterio\n",
    "from rasterio import uint16\n",
    "import numpy as np\n",
    "from osgeo import gdal"
   ]
  },
  {
   "cell_type": "markdown",
   "metadata": {},
   "source": [
    "### Function to validate Cloud Optimized Geotiff"
   ]
  },
  {
   "cell_type": "code",
   "execution_count": 1,
   "metadata": {
    "code_folding": []
   },
   "outputs": [],
   "source": [
    "def validateCOG(file):\n",
    "    # Validation script must be in same directory\n",
    "    command = \"python validate_cloud_optimized_geotiff.py \" + file\n",
    "    process = subprocess.run(command, stdout=subprocess.PIPE,\n",
    "                             stderr=subprocess.STDOUT, universal_newlines=True)\n",
    "    output = process.stdout\n",
    "    print(output)"
   ]
  },
  {
   "cell_type": "markdown",
   "metadata": {},
   "source": [
    "### Functions to convert geotiff/s to COG"
   ]
  },
  {
   "cell_type": "code",
   "execution_count": null,
   "metadata": {
    "code_folding": [
     0
    ]
   },
   "outputs": [],
   "source": [
    "def tiledRasterPreprocess(files_list, output_filename, output_dir):\n",
    "    \"\"\"Create COG from single or tiled geotiffs using GDAL < v 3.1\n",
    "    https://gist.github.com/palmerj/ac1e19eb81c986d9634e3a3de7cdfc3d\n",
    "\n",
    "    Parameters\n",
    "    ----------\n",
    "    files : str or list\n",
    "        file path or list of file paths for input geotiff/s\n",
    "\n",
    "    Returns\n",
    "    -------\n",
    "    outputFiles : str\n",
    "        file path for output COG\n",
    "    \"\"\"\n",
    "    # Create a virtual mosaic from the input tiles\n",
    "    output_mosaic = output_dir + \"\\\\\" + output_filename + \"_mosaic.vrt\"\n",
    "    vrt_options = gdal.BuildVRTOptions(resampleAlg='cubic')\n",
    "    vrt = gdal.BuildVRT(output_mosaic, files_list, options=vrt_options)\n",
    "    vrt = None\n",
    "\n",
    "    # Create a bigtiff from the virtual mosaic\n",
    "    # Translate(destName, srcDS, **kwargs)\n",
    "    output_bigtiff = output_dir + \"\\\\\" + output_filename + \"_bigtiff.tif\"\n",
    "    bigtiff_options = gdal.TranslateOptions(format='GTiff',\n",
    "                                            creationOptions=['BIGTIFF=YES',\n",
    "                                                             'TILED=YES',\n",
    "                                                             'COMPRESS=DEFLATE',\n",
    "                                                             'PREDICTOR=2',\n",
    "                                                             'NUM_THREADS=ALL_CPUS'])\n",
    "    bigtiff = gdal.Translate(\n",
    "        output_bigtiff, output_mosaic, options=bigtiff_options)\n",
    "    bigtiff = None\n",
    "\n",
    "    # Create overviews\n",
    "    image = gdal.Open(output_bigtiff)\n",
    "    gdal.SetConfigOption(\"COMPRESS_OVERVIEW\", \"DEFLATE\")\n",
    "    image.BuildOverviews(\"AVERAGE\", [2, 4, 8, 16, 32, 64, 128, 256, 512])\n",
    "\n",
    "    # Create cloud optimized geotiff\n",
    "    output_cog = output_dir + \"\\\\\" + output_filename + \"_cog.tif\"\n",
    "    cog_options = gdal.TranslateOptions(format='GTiff',\n",
    "                                        creationOptions=['BIGTIFF=YES',\n",
    "                                                         'TILED=YES',\n",
    "                                                         'BLOCKXSIZE=256',\n",
    "                                                         'BLOCKYSIZE=256',\n",
    "                                                         'COMPRESS=LZW',\n",
    "                                                         'COPY_SRC_OVERVIEWS=YES'])\n",
    "    cog = gdal.Translate(output_cog, output_bigtiff, options=cog_options)\n",
    "    cog = None\n",
    "\n",
    "    # Validate the COG geotiff\n",
    "    command = \"python validate_cloud_optimized_geotiff.py \" + output_cog\n",
    "    process = subprocess.run(command, stdout=subprocess.PIPE,\n",
    "                             stderr=subprocess.STDOUT, universal_newlines=True)\n",
    "    output = process.stdout\n",
    "    print(output)"
   ]
  },
  {
   "cell_type": "code",
   "execution_count": 3,
   "metadata": {
    "code_folding": [
     0
    ]
   },
   "outputs": [],
   "source": [
    "def tiledRasterPreprocessV2(files_list, output_filename, output_dir, separate_bands='FALSE', validate_cog='FALSE'):\n",
    "    \"\"\"Create COG from single or tiled geotiffs using GDAL v 3.1 +\n",
    "\n",
    "    Parameters\n",
    "    ----------\n",
    "    files : str or list\n",
    "        file path or list of file paths for input geotiff/s\n",
    "\n",
    "    Returns\n",
    "    -------\n",
    "    outputFiles : str\n",
    "        file path for output COG\n",
    "    \"\"\"\n",
    "    # Create a virtual mosaic from the input tiles\n",
    "    output_mosaic = output_dir + \"\\\\\" + output_filename + \"_mosaic.vrt\"\n",
    "    vrt_options = gdal.BuildVRTOptions(resampleAlg='cubic')\n",
    "    vrt = gdal.BuildVRT(output_mosaic, files_list, options=vrt_options)\n",
    "    vrt = None\n",
    "\n",
    "    # Query the number of bands\n",
    "    src_ds = gdal.Open(output_mosaic)\n",
    "\n",
    "    # Check to separate bands\n",
    "    if separate_bands == 'TRUE' and src_ds.RasterCount > 1:\n",
    "\n",
    "        # Loop over bands\n",
    "        for x in range(src_ds.RasterCount):\n",
    "            band = x + 1\n",
    "            # output_cog = output_dir + \"\\\\\" + \\\n",
    "            #    output_filename + \"_B\" + str(band) + \"_cog.tif\"\n",
    "\n",
    "            # Just save the file as the Band number for SentinelHub COG ingest\n",
    "            output_cog = output_dir + \"\\\\\" + \"B\" + str(band) + \".tif\"\n",
    "            command = \"-of COG -b \" + \\\n",
    "                str(band) + \" -co BLOCKSIZE=1024 -co COMPRESS=DEFLATE -co RESAMPLING=AVERAGE \\\n",
    "                -co OVERVIEWS=IGNORE_EXISTING -a_nodata 0\"\n",
    "\n",
    "            cog_options = gdal.TranslateOptions(gdal.ParseCommandLine(command))\n",
    "            cog = gdal.Translate(\n",
    "                output_cog, output_mosaic, options=cog_options)\n",
    "            cog = None\n",
    "\n",
    "            # Validate the COG\n",
    "            if validate_cog == 'TRUE':\n",
    "                validateCOG(output_cog)\n",
    "\n",
    "    else:\n",
    "        output_cog = output_dir + \"\\\\\" + output_filename + \"_cog.tif\"\n",
    "        command = \"-of COG -co BLOCKSIZE=1024 -co COMPRESS=DEFLATE -co RESAMPLING=AVERAGE -co OVERVIEWS=IGNORE_EXISTING\"\n",
    "        cog_options = gdal.TranslateOptions(gdal.ParseCommandLine(command))\n",
    "        cog = gdal.Translate(output_cog, output_mosaic, options=cog_options)\n",
    "        cog = None\n",
    "\n",
    "        # Validate the COG\n",
    "        if validate_cog == 'TRUE':\n",
    "            validateCOG(output_cog)"
   ]
  },
  {
   "cell_type": "markdown",
   "metadata": {},
   "source": [
    "### Pre-processing script for McKinley Planetscope data"
   ]
  },
  {
   "cell_type": "code",
   "execution_count": 6,
   "metadata": {
    "code_folding": []
   },
   "outputs": [],
   "source": [
    "# Script for Planetscope data\n",
    "# Pattern for a subdirectories\n",
    "#input_directory = os.path.join(\n",
    "#    \"C:\\\\\", \"python\", \"repos\", \"misc\", \"raster_preprocessing\", \"Planetscope_Data\", \"**\")\n",
    " \n",
    "input_directory = \"E:\\McKinley\\planetscope\\**\"\n",
    "    \n",
    "# Get top-level subdirectories\n",
    "dirs = glob.glob(input_directory)"
   ]
  },
  {
   "cell_type": "code",
   "execution_count": 7,
   "metadata": {
    "code_folding": [],
    "scrolled": false
   },
   "outputs": [
    {
     "name": "stdout",
     "output_type": "stream",
     "text": [
      "{'driver': 'GTiff', 'dtype': 'uint16', 'nodata': 0.0, 'width': 1856, 'height': 1482, 'count': 4, 'crs': CRS.from_epsg(32612), 'transform': Affine(3.0, 0.0, 683328.0,\n",
      "       0.0, -3.0, 3956787.0)}\n",
      "{'driver': 'GTiff', 'dtype': 'uint16', 'nodata': 0.0, 'width': 4829, 'height': 3896, 'count': 4, 'crs': CRS.from_epsg(32612), 'transform': Affine(3.0, 0.0, 678138.0,\n",
      "       0.0, -3.0, 3956787.0)}\n",
      "{'driver': 'GTiff', 'dtype': 'uint16', 'nodata': 0.0, 'width': 5007, 'height': 3669, 'count': 4, 'crs': CRS.from_epsg(32612), 'transform': Affine(3.0, 0.0, 677604.0,\n",
      "       0.0, -3.0, 3950892.0)}\n",
      "{'driver': 'GTiff', 'dtype': 'uint16', 'nodata': 0.0, 'width': 3650, 'height': 1267, 'count': 4, 'crs': CRS.from_epsg(32612), 'transform': Affine(3.0, 0.0, 677604.0,\n",
      "       0.0, -3.0, 3943686.0)}\n",
      "{'driver': 'GTiff', 'dtype': 'uint16', 'nodata': 0.0, 'width': 3696, 'height': 1455, 'count': 4, 'crs': CRS.from_epsg(32612), 'transform': Affine(3.0, 0.0, 677604.0,\n",
      "       0.0, -3.0, 3944250.0)}\n",
      "{'driver': 'GTiff', 'dtype': 'uint16', 'nodata': 0.0, 'width': 5007, 'height': 3599, 'count': 4, 'crs': CRS.from_epsg(32612), 'transform': Affine(3.0, 0.0, 677604.0,\n",
      "       0.0, -3.0, 3950682.0)}\n",
      "{'driver': 'GTiff', 'dtype': 'uint16', 'nodata': 0.0, 'width': 4976, 'height': 4123, 'count': 4, 'crs': CRS.from_epsg(32612), 'transform': Affine(3.0, 0.0, 677697.0,\n",
      "       0.0, -3.0, 3956787.0)}\n",
      "{'driver': 'GTiff', 'dtype': 'uint16', 'nodata': 0.0, 'width': 3489, 'height': 1985, 'count': 4, 'crs': CRS.from_epsg(32612), 'transform': Affine(3.0, 0.0, 682125.0,\n",
      "       0.0, -3.0, 3956787.0)}\n",
      "{'driver': 'GTiff', 'dtype': 'uint16', 'nodata': 0.0, 'width': 5007, 'height': 5634, 'count': 4, 'crs': CRS.from_epsg(32612), 'transform': Affine(3.0, 0.0, 677604.0,\n",
      "       0.0, -3.0, 3956787.0)}\n",
      "{'driver': 'GTiff', 'dtype': 'uint16', 'nodata': 0.0, 'width': 3930, 'height': 2806, 'count': 4, 'crs': CRS.from_epsg(32612), 'transform': Affine(3.0, 0.0, 677604.0,\n",
      "       0.0, -3.0, 3948303.0)}\n",
      "{'driver': 'GTiff', 'dtype': 'uint16', 'nodata': 0.0, 'width': 3696, 'height': 1893, 'count': 4, 'crs': CRS.from_epsg(32612), 'transform': Affine(3.0, 0.0, 677604.0,\n",
      "       0.0, -3.0, 3945564.0)}\n",
      "{'driver': 'GTiff', 'dtype': 'uint16', 'nodata': 0.0, 'width': 5007, 'height': 4027, 'count': 4, 'crs': CRS.from_epsg(32612), 'transform': Affine(3.0, 0.0, 677604.0,\n",
      "       0.0, -3.0, 3951966.0)}\n",
      "{'driver': 'GTiff', 'dtype': 'uint16', 'nodata': 0.0, 'width': 4002, 'height': 3613, 'count': 4, 'crs': CRS.from_epsg(32612), 'transform': Affine(3.0, 0.0, 679668.0,\n",
      "       0.0, -3.0, 3956787.0)}\n",
      "{'driver': 'GTiff', 'dtype': 'uint16', 'nodata': 0.0, 'width': 1059, 'height': 883, 'count': 4, 'crs': CRS.from_epsg(32612), 'transform': Affine(3.0, 0.0, 689448.0,\n",
      "       0.0, -3.0, 3951435.0)}\n",
      "{'driver': 'GTiff', 'dtype': 'uint16', 'nodata': 0.0, 'width': 2832, 'height': 2509, 'count': 4, 'crs': CRS.from_epsg(32612), 'transform': Affine(3.0, 0.0, 680196.0,\n",
      "       0.0, -3.0, 3947412.0)}\n",
      "{'driver': 'GTiff', 'dtype': 'uint16', 'nodata': 0.0, 'width': 4619, 'height': 4159, 'count': 4, 'crs': CRS.from_epsg(32612), 'transform': Affine(3.0, 0.0, 678768.0,\n",
      "       0.0, -3.0, 3953805.0)}\n",
      "{'driver': 'GTiff', 'dtype': 'uint16', 'nodata': 0.0, 'width': 4213, 'height': 3022, 'count': 4, 'crs': CRS.from_epsg(32612), 'transform': Affine(3.0, 0.0, 679986.0,\n",
      "       0.0, -3.0, 3956787.0)}\n",
      "{'driver': 'GTiff', 'dtype': 'uint16', 'nodata': 0.0, 'width': 1270, 'height': 2373, 'count': 4, 'crs': CRS.from_epsg(32612), 'transform': Affine(3.0, 0.0, 677604.0,\n",
      "       0.0, -3.0, 3949674.0)}\n"
     ]
    }
   ],
   "source": [
    "# Convert radiance to reflectance\n",
    "# https://notebook.community/planetlabs/notebooks/jupyter-notebooks/\n",
    "# in-class-exercises/convert-radiance-to-reflectance/convert-radiance-to-reflectance-key\n",
    "for dir in dirs:\n",
    "\n",
    "    # Get the list of input raw radiance tiles in the current directory\n",
    "    files_list = glob.glob(os.path.join(dir, \"files\", \"*_AnalyticMS_clip.tif\"))\n",
    "\n",
    "    # File check\n",
    "    if not files_list:\n",
    "        continue\n",
    "    else:\n",
    "        for filename in files_list:\n",
    "            \n",
    "            # Load bands - note all PlanetScope 4-band images have band order BGRN\n",
    "            with rasterio.open(filename) as src:\n",
    "                band_blue_radiance = src.read(1)\n",
    "\n",
    "            with rasterio.open(filename) as src:\n",
    "                band_green_radiance = src.read(2)\n",
    "\n",
    "            with rasterio.open(filename) as src:\n",
    "                band_red_radiance = src.read(3)\n",
    "\n",
    "            with rasterio.open(filename) as src:\n",
    "                band_nir_radiance = src.read(4)\n",
    "            \n",
    "            \n",
    "            # Load metadata\n",
    "            # Build path to metadata file\n",
    "            file_root = filename.split('_AnalyticMS_clip.tif')\n",
    "            metadata_path = file_root[0] + \"_AnalyticMS_metadata_clip.xml\"\n",
    "            \n",
    "            # Parse the metadata.xml\n",
    "            xmldoc = minidom.parse(metadata_path)\n",
    "            nodes = xmldoc.getElementsByTagName(\"ps:bandSpecificMetadata\")\n",
    "\n",
    "            # XML parser refers to bands by numbers 1-4\n",
    "            coeffs = {}\n",
    "            for node in nodes:\n",
    "                bn = node.getElementsByTagName(\"ps:bandNumber\")[0].firstChild.data\n",
    "                if bn in ['1', '2', '3', '4']:\n",
    "                    i = int(bn)\n",
    "                    value = node.getElementsByTagName(\"ps:reflectanceCoefficient\")[0].firstChild.data\n",
    "                    coeffs[i] = float(value)\n",
    "\n",
    "            #print(\"Conversion coefficients:\", coeffs)\n",
    "            \n",
    "            # Multiply the current values in each band by the TOA reflectance coefficients\n",
    "            band_blue_reflectance = band_blue_radiance * coeffs[1]\n",
    "            band_green_reflectance = band_green_radiance * coeffs[2]\n",
    "            band_red_reflectance = band_red_radiance * coeffs[3]\n",
    "            band_nir_reflectance = band_nir_radiance * coeffs[4]\n",
    "            \n",
    "            # Save the reflectance image\n",
    "            # get the metadata of original GeoTIFF:\n",
    "            meta = src.meta\n",
    "\n",
    "            # set the source metadata as kwargs we'll use to write the new data:\n",
    "            kwargs = meta\n",
    "\n",
    "            # update the 'dtype' value to uint16:\n",
    "            kwargs.update(dtype='uint16')\n",
    "\n",
    "            # As noted above, scale reflectance value by a factor of 10k:\n",
    "            scale = 10000\n",
    "            blue_ref_scaled = scale * band_blue_reflectance\n",
    "            green_ref_scaled = scale * band_green_reflectance\n",
    "            red_ref_scaled = scale * band_red_reflectance\n",
    "            nir_ref_scaled = scale * band_nir_reflectance\n",
    "\n",
    "            # Convert the type to 'uint16'\n",
    "            red = red_ref_scaled.astype(uint16)\n",
    "            green = green_ref_scaled.astype(uint16)\n",
    "            blue = blue_ref_scaled.astype(uint16)\n",
    "            nir = nir_ref_scaled.astype(uint16)\n",
    "\n",
    "            # Define the output filename\n",
    "            output_path = file_root[0] + \"_AnalyticMS_clip_ref.tif\"\n",
    "            \n",
    "            # Finally, write band calculations to a new GeoTIFF file\n",
    "            with rasterio.open(output_path, 'w', **kwargs) as dst:\n",
    "                    dst.write_band(1, red)\n",
    "                    dst.write_band(2, green)\n",
    "                    dst.write_band(3, blue)\n",
    "                    dst.write_band(4, nir)"
   ]
  },
  {
   "cell_type": "code",
   "execution_count": 8,
   "metadata": {
    "code_folding": []
   },
   "outputs": [
    {
     "name": "stdout",
     "output_type": "stream",
     "text": [
      "Directory created:E:\\McKinley\\planetscope\\CB_NewMexico_Aug_PSScene4Band_Explorer\\McKinley_20200823\n",
      "Directory created:E:\\McKinley\\planetscope\\CB_NewMexico_Jul_PSScene4Band_Explorer\\McKinley_20200721\n",
      "Directory created:E:\\McKinley\\planetscope\\CB_NewMexico_Jun_PSScene4Band_Explorer\\McKinley_20200618\n",
      "Directory created:E:\\McKinley\\planetscope\\CB_NewMexico_May_PSScene4Band_Explorer\\McKinley_20200520\n",
      "Directory created:E:\\McKinley\\planetscope\\CB_NewMexico_Sept_PSScene4Band_Explorer\\McKinley_20200921\n"
     ]
    }
   ],
   "source": [
    "# Create mosaicked COG's for each date\n",
    "for dir in dirs:\n",
    "\n",
    "    # Get the list of input tiles in the current directory\n",
    "    files_list = glob.glob(os.path.join(dir, \"files\", \"*_AnalyticMS_clip.tif\"))\n",
    "    \n",
    "    # Check if there are any files conforming to wild card in the directory\n",
    "    if not files_list:\n",
    "        continue\n",
    "    else:\n",
    "        \n",
    "        # Create the output filename for multiband output\n",
    "        output_filename_raw = files_list[0]\n",
    "        output_filename = output_filename_raw.split(\"\\\\\")\n",
    "        output_date = output_filename[-1].split(\"_\")\n",
    "        output_date = output_date[0]\n",
    "        output_filename = \"McKinley_\" + output_date\n",
    "        \n",
    "        # Output directory\n",
    "        output_dir = os.path.join(dir, output_filename)\n",
    "\n",
    "        # Check output directory\n",
    "        if os.path.isdir(output_dir) is False:\n",
    "            os.mkdir(output_dir)\n",
    "            print(\"Directory created:\" + output_dir)\n",
    "\n",
    "        # Run the pre-processing function\n",
    "        tiledRasterPreprocessV2(files_list=files_list,\n",
    "                                output_filename=output_filename,\n",
    "                                output_dir=output_dir,\n",
    "                                separate_bands='TRUE',\n",
    "                                validate_cog='FALSE')"
   ]
  },
  {
   "cell_type": "markdown",
   "metadata": {},
   "source": [
    "### Pre-processing script for McKinley Planet Skysat data"
   ]
  },
  {
   "cell_type": "code",
   "execution_count": null,
   "metadata": {
    "code_folding": [
     0
    ]
   },
   "outputs": [],
   "source": [
    "# Script for tiled Skysat data\n",
    "# Pattern for a subdirectories\n",
    "\n",
    "input_directory = os.path.join(\n",
    "    \"I:\\\\\", \"CVX_AMER_IMG\", \"ETC\", \"ENVTEC\", \"satellite\", \"cemrec_mc_kinley\", \"2020\", \"skysat\", \"source_data\")\n",
    "\n",
    "# Get the list of input tiles\n",
    "files_list = glob.glob(os.path.join(\n",
    "    input_directory, \"*_analytic_cliptoAOI.tif\"))\n",
    "\n",
    "# Check if there are any files conforming to wild card in the directory\n",
    "if not files_list:\n",
    "    print('test')\n",
    "else:\n",
    "    # Run the pre-processing function\n",
    "    tiledRasterPreprocessV2(files_list=files_list,\n",
    "                            output_filename=\"McKinley_Skysat\",\n",
    "                            output_dir=input_directory,\n",
    "                            separate_bands='FALSE',\n",
    "                            validate_cog='FALSE')"
   ]
  },
  {
   "cell_type": "code",
   "execution_count": 5,
   "metadata": {},
   "outputs": [],
   "source": [
    "# Script for mosaicked Skysat data\n",
    "input_directory = os.path.join(\n",
    "    \"D:\\\\\", \"McKinley\", \"skysat\")\n",
    "\n",
    "# Get the list of input tiles\n",
    "files_list = glob.glob(os.path.join(\n",
    "    input_directory, \"*.tif\"))\n",
    "\n",
    "# Check if there are any files conforming to wild card in the directory\n",
    "if not files_list:\n",
    "    print('No files')\n",
    "else:\n",
    "    # Run the pre-processing function\n",
    "    tiledRasterPreprocessV2(files_list=files_list,\n",
    "                            output_filename=\"skysat_mosaic_50cm_cog\",\n",
    "                            output_dir=input_directory,\n",
    "                            separate_bands='FALSE',\n",
    "                            validate_cog='FALSE')"
   ]
  },
  {
   "cell_type": "code",
   "execution_count": 8,
   "metadata": {},
   "outputs": [
    {
     "name": "stdout",
     "output_type": "stream",
     "text": [
      "D:\\McKinley\\skysat\\skysat_mosaic_50cm_cog_cog.tif is a valid cloud optimized GeoTIFF\n",
      "\n",
      "The size of all IFD headers is 12812 bytes\n",
      "\n"
     ]
    }
   ],
   "source": [
    "file = os.path.join(\n",
    "    \"D:\\\\\", \"McKinley\", \"skysat\", \"skysat_mosaic_50cm_cog_cog.tif\")\n",
    "\n",
    "validateCOG(file)"
   ]
  },
  {
   "cell_type": "markdown",
   "metadata": {},
   "source": [
    "### Pre-processing script for McKinley orthos"
   ]
  },
  {
   "cell_type": "code",
   "execution_count": null,
   "metadata": {
    "code_folding": [
     0
    ]
   },
   "outputs": [],
   "source": [
    "# Pattern for a subdirectories\n",
    "input_directory = os.path.join(\n",
    "    \"I:\\\\\", \"CVX_AMER_IMG\", \"ETC\", \"ENVTEC\", \"aerial\", \"cemrec_mckinley\", \"2020\", \"01_4band_ortho_tiles_2\")    \n",
    "    \n",
    "# Get top-level subdirectories\n",
    "dirs = glob.glob(input_directory)\n",
    "\n",
    "# Loop through each directory and get the tiffs in the files directories\n",
    "for dir in dirs:\n",
    "    \n",
    "    print(dir)\n",
    "    \n",
    "    # Get the list of input tiles\n",
    "    #files_list = glob.glob(os.path.join(dir, \"files\", \"*_AnalyticMS_clip.tif\"))\n",
    "    files_list = glob.glob(os.path.join(dir, \"*.tif\"))\n",
    "    \n",
    "    # Check if there are any files conforming to wild card in the directory\n",
    "    if not files_list:\n",
    "        continue\n",
    "    else:\n",
    "        # Run the pre-processing function\n",
    "        tiledRasterPreprocessV2(files_list=files_list,\n",
    "                                output_filename=\"McKinley_NM_Ortho\",\n",
    "                                output_dir=dir,\n",
    "                                separate_bands='FALSE',\n",
    "                                validate_cog='FALSE')"
   ]
  }
 ],
 "metadata": {
  "kernelspec": {
   "display_name": "Python 3 (ipykernel)",
   "language": "python",
   "name": "python3"
  },
  "language_info": {
   "codemirror_mode": {
    "name": "ipython",
    "version": 3
   },
   "file_extension": ".py",
   "mimetype": "text/x-python",
   "name": "python",
   "nbconvert_exporter": "python",
   "pygments_lexer": "ipython3",
   "version": "3.9.6"
  }
 },
 "nbformat": 4,
 "nbformat_minor": 4
}
